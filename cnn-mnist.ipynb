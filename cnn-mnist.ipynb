{
 "cells": [
  {
   "cell_type": "markdown",
   "metadata": {},
   "source": [
    "# Convolutional networks for MNIST"
   ]
  },
  {
   "cell_type": "code",
   "execution_count": 1,
   "metadata": {},
   "outputs": [
    {
     "name": "stderr",
     "output_type": "stream",
     "text": [
      "/software/Anaconda3-5.0.1-el7-x86_64/envs/DL_GPU_cuda_9.0/lib/python3.6/site-packages/h5py/__init__.py:36: FutureWarning: Conversion of the second argument of issubdtype from `float` to `np.floating` is deprecated. In future, it will be treated as `np.float64 == np.dtype(float).type`.\n",
      "  from ._conv import register_converters as _register_converters\n"
     ]
    }
   ],
   "source": [
    "import tensorflow as tf\n",
    "import matplotlib.pyplot as plt\n",
    "import numpy as np\n",
    "from tensorflow import keras\n",
    "import time"
   ]
  },
  {
   "cell_type": "code",
   "execution_count": 2,
   "metadata": {},
   "outputs": [],
   "source": [
    "def one_hot(values,n_values=10):\n",
    "    n_v = np.maximum(n_values,np.max(values) + 1)\n",
    "    oh=np.eye(n_v)[values]\n",
    "    return oh\n",
    "\n",
    "X = np.load('/project2/cmsc25025/mnist/MNIST.npy').reshape(-1,28,28,1).astype(np.float64) / 255.\n",
    "Y = one_hot(np.load('/project2/cmsc25025/mnist/MNIST_labels.npy'))\n",
    "n = 70000\n",
    "train_set = (X[:int(5/7 * n)], Y[:int(5/7 * n)])\n",
    "val_set = (X[int(5/7 * n):int(6/7 * n)], Y[int(5/7 * n):int(6/7 * n)])\n",
    "test_set = (X[int(6/7 * n):n], Y[int(6/7 * n):n])"
   ]
  },
  {
   "cell_type": "code",
   "execution_count": 3,
   "metadata": {},
   "outputs": [],
   "source": [
    "def show_image(X, nr, nc):\n",
    "    plt.figure(figsize=(nc*2, nr*2))\n",
    "    for i in range(nr*nc):\n",
    "        plt.subplot(nr, nc, i+1)\n",
    "        plt.imshow(X[i].T[0].T, cmap='gray')\n",
    "        plt.axis('off')\n",
    "    plt.axis('off')\n",
    "    plt.show()\n",
    "    \n",
    "def show_layer_image(layer, nr, nc):\n",
    "    plt.figure(figsize=(nc*2, nr*2))\n",
    "    for i in range(nr*nc):\n",
    "        plt.subplot(nr, nc, i+1)\n",
    "        plt.imshow(layer[i][0], cmap='gray')\n",
    "        plt.axis('off')\n",
    "    plt.axis('off')\n",
    "    plt.show()"
   ]
  },
  {
   "cell_type": "markdown",
   "metadata": {},
   "source": [
    "### (a) Compute the total number of parameters in the original model. And run this model. You shouldn’t run more than 20 epochs. (On the RCC with 8 cores it takes about 90 seconds per epoch with all the training data.) You can do this with only 10000 training data to expedite the experiments. For each experiment plot the error rate on training and validation as a function of the epoch number. Show an image with the 32 5 × 5 filters that are estimated in the first layer of the model"
   ]
  },
  {
   "cell_type": "code",
   "execution_count": 83,
   "metadata": {},
   "outputs": [],
   "source": [
    "def getModel(f1 = 32, f2 = 64, numF = 5, depth = 1):\n",
    "    model = keras.models.Sequential()\n",
    "    model.add(keras.layers.InputLayer((28,28,1)))\n",
    "    model.add(keras.layers.Conv2D(filters=f1, kernel_size=(numF,numF), padding='same', activation='relu'))\n",
    "    model.add(keras.layers.MaxPool2D())\n",
    "    model.add(keras.layers.Dropout(rate=0.4))\n",
    "    for i in range(depth):\n",
    "        model.add(keras.layers.Conv2D(filters=f2, kernel_size=(numF,numF), padding='same', activation='relu'))\n",
    "    model.add(keras.layers.MaxPool2D())\n",
    "    model.add(keras.layers.Dropout(rate=0.4))\n",
    "    model.add(keras.layers.Flatten())\n",
    "    model.add(keras.layers.Dense(units=1024, activation='relu'))\n",
    "    model.add(keras.layers.Dense(units=10, activation='softmax'))\n",
    "    model.compile(optimizer=tf.train.AdadeltaOptimizer(0.1),\n",
    "                  loss='categorical_crossentropy',\n",
    "                  metrics=['accuracy'])\n",
    "    return model"
   ]
  },
  {
   "cell_type": "code",
   "execution_count": 5,
   "metadata": {},
   "outputs": [
    {
     "name": "stdout",
     "output_type": "stream",
     "text": [
      "Train on 50000 samples, validate on 10000 samples\n",
      "Epoch 1/20\n",
      "50000/50000 [==============================] - 17s 332us/step - loss: 1.6022 - acc: 0.5313 - val_loss: 0.7473 - val_acc: 0.7849\n",
      "Epoch 2/20\n",
      "50000/50000 [==============================] - 4s 88us/step - loss: 0.6168 - acc: 0.8064 - val_loss: 0.3722 - val_acc: 0.9005\n",
      "Epoch 3/20\n",
      "50000/50000 [==============================] - 4s 88us/step - loss: 0.4331 - acc: 0.8683 - val_loss: 0.2835 - val_acc: 0.9213\n",
      "Epoch 4/20\n",
      "50000/50000 [==============================] - 4s 88us/step - loss: 0.3548 - acc: 0.8931 - val_loss: 0.2375 - val_acc: 0.9319\n",
      "Epoch 5/20\n",
      "50000/50000 [==============================] - 4s 87us/step - loss: 0.3026 - acc: 0.9090 - val_loss: 0.2029 - val_acc: 0.9406\n",
      "Epoch 6/20\n",
      "50000/50000 [==============================] - 4s 88us/step - loss: 0.2648 - acc: 0.9203 - val_loss: 0.1813 - val_acc: 0.9453\n",
      "Epoch 7/20\n",
      "50000/50000 [==============================] - 5s 93us/step - loss: 0.2336 - acc: 0.9295 - val_loss: 0.1557 - val_acc: 0.9532\n",
      "Epoch 8/20\n",
      "50000/50000 [==============================] - 5s 91us/step - loss: 0.2152 - acc: 0.9353 - val_loss: 0.1435 - val_acc: 0.9562\n",
      "Epoch 9/20\n",
      "50000/50000 [==============================] - 4s 87us/step - loss: 0.1930 - acc: 0.9416 - val_loss: 0.1277 - val_acc: 0.9617\n",
      "Epoch 10/20\n",
      "50000/50000 [==============================] - 4s 88us/step - loss: 0.1765 - acc: 0.9475 - val_loss: 0.1167 - val_acc: 0.9637\n",
      "Epoch 11/20\n",
      "50000/50000 [==============================] - 4s 87us/step - loss: 0.1652 - acc: 0.9507 - val_loss: 0.1065 - val_acc: 0.9676\n",
      "Epoch 12/20\n",
      "50000/50000 [==============================] - 4s 87us/step - loss: 0.1551 - acc: 0.9538 - val_loss: 0.0984 - val_acc: 0.9714\n",
      "Epoch 13/20\n",
      "50000/50000 [==============================] - 4s 87us/step - loss: 0.1444 - acc: 0.9573 - val_loss: 0.0908 - val_acc: 0.9726\n",
      "Epoch 14/20\n",
      "50000/50000 [==============================] - 4s 87us/step - loss: 0.1358 - acc: 0.9592 - val_loss: 0.0858 - val_acc: 0.9724\n",
      "Epoch 15/20\n",
      "50000/50000 [==============================] - 4s 88us/step - loss: 0.1292 - acc: 0.9615 - val_loss: 0.0789 - val_acc: 0.9763\n",
      "Epoch 16/20\n",
      "50000/50000 [==============================] - 4s 88us/step - loss: 0.1242 - acc: 0.9624 - val_loss: 0.0785 - val_acc: 0.9755\n",
      "Epoch 17/20\n",
      "50000/50000 [==============================] - 4s 87us/step - loss: 0.1173 - acc: 0.9642 - val_loss: 0.0734 - val_acc: 0.9764\n",
      "Epoch 18/20\n",
      "50000/50000 [==============================] - 4s 87us/step - loss: 0.1133 - acc: 0.9653 - val_loss: 0.0684 - val_acc: 0.9782\n",
      "Epoch 19/20\n",
      "50000/50000 [==============================] - 4s 88us/step - loss: 0.1094 - acc: 0.9668 - val_loss: 0.0655 - val_acc: 0.9794\n",
      "Epoch 20/20\n",
      "50000/50000 [==============================] - 4s 87us/step - loss: 0.1050 - acc: 0.9681 - val_loss: 0.0626 - val_acc: 0.9805\n"
     ]
    }
   ],
   "source": [
    "errors = []\n",
    "model = getModel()\n",
    "epocs = 20\n",
    "hist = model.fit(x=train_set[0], y=train_set[1],\n",
    "          epochs=epocs, batch_size=500,\n",
    "          shuffle=True,\n",
    "          validation_data=val_set)\n",
    "train_errors = 1- np.array(hist.history.get('acc'))\n",
    "val_errors = 1- np.array(hist.history.get('val_acc'))"
   ]
  },
  {
   "cell_type": "code",
   "execution_count": 6,
   "metadata": {},
   "outputs": [
    {
     "data": {
      "image/png": "[encoded data removed]",
      "text/plain": [
       "<Figure size 432x288 with 1 Axes>"
      ]
     },
     "metadata": {},
     "output_type": "display_data"
    }
   ],
   "source": [
    "plt.plot(range(1,epocs+1), train_errors)\n",
    "plt.plot(range(1,epocs+1), val_errors)\n",
    "plt.legend([\"Training Error\", \"Validation Error\"])\n",
    "plt.xlabel('Number of epochs')\n",
    "plt.ylabel('Error Rate')\n",
    "plt.show()"
   ]
  },
  {
   "cell_type": "markdown",
   "metadata": {},
   "source": [
    "It appears that the more epocs, the lower the error. However, there are dimishing returns to adding more epocs as the decrease in error rate decreases. This is the expected behavior as evidently more iterations will improve the model. The time per epoc is constant and thus, the benefit from each epoc is decreasing."
   ]
  },
  {
   "cell_type": "code",
   "execution_count": 8,
   "metadata": {},
   "outputs": [
    {
     "data": {
      "image/png": "[encoded data removed]",
      "text/plain": [
       "<Figure size 1152x576 with 32 Axes>"
      ]
     },
     "metadata": {},
     "output_type": "display_data"
    }
   ],
   "source": [
    "show_layer_image(model.layers[0].get_weights()[0].T, 4, 8)"
   ]
  },
  {
   "cell_type": "markdown",
   "metadata": {},
   "source": [
    "### (b) Experiment with changing parameters of the network:"
   ]
  },
  {
   "cell_type": "markdown",
   "metadata": {},
   "source": [
    "#### i. Keep the same number of layers and change layer parameters reducing number of parameters by half and doubling the number parameters. Try a few different options. Report the results."
   ]
  },
  {
   "cell_type": "code",
   "execution_count": 10,
   "metadata": {},
   "outputs": [
    {
     "name": "stdout",
     "output_type": "stream",
     "text": [
      "Running with (8, 16) filters\n",
      "Train on 50000 samples, validate on 10000 samples\n",
      "Epoch 1/7\n",
      "50000/50000 [==============================] - 3s 64us/step - loss: 2.0927 - acc: 0.3421 - val_loss: 1.6321 - val_acc: 0.7480\n",
      "Epoch 2/7\n",
      "50000/50000 [==============================] - 2s 38us/step - loss: 1.1438 - acc: 0.6796 - val_loss: 0.5992 - val_acc: 0.8548\n",
      "Epoch 3/7\n",
      "50000/50000 [==============================] - 2s 38us/step - loss: 0.6996 - acc: 0.7820 - val_loss: 0.4072 - val_acc: 0.8975\n",
      "Epoch 4/7\n",
      "50000/50000 [==============================] - 2s 39us/step - loss: 0.5562 - acc: 0.8270 - val_loss: 0.3316 - val_acc: 0.9138\n",
      "Epoch 5/7\n",
      "50000/50000 [==============================] - 2s 38us/step - loss: 0.4773 - acc: 0.8544 - val_loss: 0.2894 - val_acc: 0.9225\n",
      "Epoch 6/7\n",
      "50000/50000 [==============================] - 2s 38us/step - loss: 0.4263 - acc: 0.8681 - val_loss: 0.2541 - val_acc: 0.9309\n",
      "Epoch 7/7\n",
      "50000/50000 [==============================] - 2s 38us/step - loss: 0.3855 - acc: 0.8825 - val_loss: 0.2256 - val_acc: 0.9380\n",
      "Running with (16, 32) filters\n",
      "Train on 50000 samples, validate on 10000 samples\n",
      "Epoch 1/7\n",
      "50000/50000 [==============================] - 4s 76us/step - loss: 1.8652 - acc: 0.4493 - val_loss: 0.9697 - val_acc: 0.7961\n",
      "Epoch 2/7\n",
      "50000/50000 [==============================] - 3s 54us/step - loss: 0.8027 - acc: 0.7485 - val_loss: 0.4797 - val_acc: 0.8655\n",
      "Epoch 3/7\n",
      "50000/50000 [==============================] - 3s 54us/step - loss: 0.5650 - acc: 0.8231 - val_loss: 0.3603 - val_acc: 0.9032\n",
      "Epoch 4/7\n",
      "50000/50000 [==============================] - 3s 54us/step - loss: 0.4665 - acc: 0.8550 - val_loss: 0.3044 - val_acc: 0.9143\n",
      "Epoch 5/7\n",
      "50000/50000 [==============================] - 3s 54us/step - loss: 0.4026 - acc: 0.8783 - val_loss: 0.2658 - val_acc: 0.9245\n",
      "Epoch 6/7\n",
      "50000/50000 [==============================] - 3s 55us/step - loss: 0.3608 - acc: 0.8901 - val_loss: 0.2331 - val_acc: 0.9333\n",
      "Epoch 7/7\n",
      "50000/50000 [==============================] - 3s 56us/step - loss: 0.3220 - acc: 0.9027 - val_loss: 0.2112 - val_acc: 0.9377\n",
      "Running with (32, 64) filters\n",
      "Train on 50000 samples, validate on 10000 samples\n",
      "Epoch 1/7\n",
      "50000/50000 [==============================] - 6s 121us/step - loss: 1.6579 - acc: 0.5371 - val_loss: 0.6628 - val_acc: 0.8088\n",
      "Epoch 2/7\n",
      "50000/50000 [==============================] - 5s 95us/step - loss: 0.5956 - acc: 0.8124 - val_loss: 0.3433 - val_acc: 0.9079\n",
      "Epoch 3/7\n",
      "50000/50000 [==============================] - 5s 95us/step - loss: 0.4076 - acc: 0.8747 - val_loss: 0.2699 - val_acc: 0.9233\n",
      "Epoch 4/7\n",
      "50000/50000 [==============================] - 5s 97us/step - loss: 0.3342 - acc: 0.9000 - val_loss: 0.2160 - val_acc: 0.9383\n",
      "Epoch 5/7\n",
      "50000/50000 [==============================] - 5s 96us/step - loss: 0.2812 - acc: 0.9168 - val_loss: 0.1863 - val_acc: 0.9457\n",
      "Epoch 6/7\n",
      "50000/50000 [==============================] - 5s 96us/step - loss: 0.2450 - acc: 0.9276 - val_loss: 0.1596 - val_acc: 0.9550\n",
      "Epoch 7/7\n",
      "50000/50000 [==============================] - 5s 95us/step - loss: 0.2156 - acc: 0.9349 - val_loss: 0.1412 - val_acc: 0.9583\n",
      "Running with (64, 128) filters\n",
      "Train on 50000 samples, validate on 10000 samples\n",
      "Epoch 1/7\n",
      "50000/50000 [==============================] - 11s 222us/step - loss: 1.3689 - acc: 0.6130 - val_loss: 0.4940 - val_acc: 0.8702\n",
      "Epoch 2/7\n",
      "50000/50000 [==============================] - 9s 174us/step - loss: 0.4660 - acc: 0.8568 - val_loss: 0.2968 - val_acc: 0.9159\n",
      "Epoch 3/7\n",
      "50000/50000 [==============================] - 9s 175us/step - loss: 0.3356 - acc: 0.8986 - val_loss: 0.2358 - val_acc: 0.9327\n",
      "Epoch 4/7\n",
      "50000/50000 [==============================] - 9s 175us/step - loss: 0.2686 - acc: 0.9199 - val_loss: 0.1890 - val_acc: 0.9445\n",
      "Epoch 5/7\n",
      "50000/50000 [==============================] - 9s 174us/step - loss: 0.2287 - acc: 0.9305 - val_loss: 0.1548 - val_acc: 0.9549\n",
      "Epoch 6/7\n",
      "50000/50000 [==============================] - 9s 174us/step - loss: 0.1946 - acc: 0.9414 - val_loss: 0.1370 - val_acc: 0.9590\n",
      "Epoch 7/7\n",
      "50000/50000 [==============================] - 9s 174us/step - loss: 0.1696 - acc: 0.9499 - val_loss: 0.1165 - val_acc: 0.9645\n",
      "Running with (128, 256) filters\n",
      "Train on 50000 samples, validate on 10000 samples\n",
      "Epoch 1/7\n",
      "50000/50000 [==============================] - 21s 422us/step - loss: 1.2600 - acc: 0.6465 - val_loss: 0.4485 - val_acc: 0.8640\n",
      "Epoch 2/7\n",
      "50000/50000 [==============================] - 18s 356us/step - loss: 0.3972 - acc: 0.8780 - val_loss: 0.2511 - val_acc: 0.9286\n",
      "Epoch 3/7\n",
      "50000/50000 [==============================] - 18s 355us/step - loss: 0.2715 - acc: 0.9190 - val_loss: 0.1850 - val_acc: 0.9480\n",
      "Epoch 4/7\n",
      "50000/50000 [==============================] - 18s 357us/step - loss: 0.2118 - acc: 0.9367 - val_loss: 0.1518 - val_acc: 0.9529\n",
      "Epoch 5/7\n",
      "50000/50000 [==============================] - 18s 358us/step - loss: 0.1729 - acc: 0.9486 - val_loss: 0.1233 - val_acc: 0.9651\n",
      "Epoch 6/7\n",
      "50000/50000 [==============================] - 18s 358us/step - loss: 0.1459 - acc: 0.9569 - val_loss: 0.1019 - val_acc: 0.9693\n",
      "Epoch 7/7\n",
      "50000/50000 [==============================] - 18s 357us/step - loss: 0.1284 - acc: 0.9608 - val_loss: 0.0917 - val_acc: 0.9715\n"
     ]
    }
   ],
   "source": [
    "filter_parameters = [(8,16), (16,32), (32, 64), (64,128), (128,256)]\n",
    "filter_scale = [0.25, 0.5, 1, 2, 4]\n",
    "ftrain_errors = []\n",
    "fval_errors = []\n",
    "ftime = []\n",
    "for f in filter_parameters:\n",
    "    print(\"Running with\", f, \"filters\")\n",
    "    model = getModel(f1 = f[0], f2= f[1])\n",
    "    start = time.time()\n",
    "    hist = model.fit(x=train_set[0], y=train_set[1],\n",
    "              epochs=7, batch_size=500,\n",
    "              shuffle=True,\n",
    "              validation_data=val_set)\n",
    "    ftime.append(time.time() - start)\n",
    "    ftrain_errors.append(1- hist.history.get('acc')[-1])\n",
    "    fval_errors.append(1- hist.history.get('val_acc')[-1])"
   ]
  },
  {
   "cell_type": "code",
   "execution_count": 18,
   "metadata": {},
   "outputs": [
    {
     "data": {
      "image/png": "[encoded data removed]",
      "text/plain": [
       "<Figure size 864x288 with 2 Axes>"
      ]
     },
     "metadata": {},
     "output_type": "display_data"
    }
   ],
   "source": [
    "plt.figure(figsize=(12, 4))\n",
    "plt.subplot(1, 2, 1)\n",
    "plt.plot(filter_scale, ftrain_errors)\n",
    "plt.plot(filter_scale, fval_errors)\n",
    "plt.legend([\"Training Error\", \"Validation Error\"])\n",
    "plt.xlabel('Filter Scale')\n",
    "plt.ylabel('Error Rate')\n",
    "plt.subplot(1, 2, 2)\n",
    "plt.plot(filter_scale, ftime)\n",
    "plt.xlabel('Filter Scale')\n",
    "plt.ylabel('Time (s)')\n",
    "plt.show()"
   ]
  },
  {
   "cell_type": "markdown",
   "metadata": {},
   "source": [
    "The results from the number of numbers is extremely similar to the results from the number of epochs. As the number of filters increases, the error rate decreases at a decreasing rate. Thus, the more filters we have, the better the results. The runtime appears to increase linearly. Thus, increasing the filter size has diminishing returns."
   ]
  },
  {
   "cell_type": "code",
   "execution_count": 8,
   "metadata": {},
   "outputs": [
    {
     "name": "stdout",
     "output_type": "stream",
     "text": [
      "Running with dimension: 1 x 1\n",
      "Train on 50000 samples, validate on 10000 samples\n",
      "Epoch 1/7\n",
      "50000/50000 [==============================] - 6s 119us/step - loss: 1.6473 - acc: 0.5246 - val_loss: 0.6766 - val_acc: 0.7936\n",
      "Epoch 2/7\n",
      "50000/50000 [==============================] - 5s 95us/step - loss: 0.6006 - acc: 0.8105 - val_loss: 0.3547 - val_acc: 0.9023\n",
      "Epoch 3/7\n",
      "50000/50000 [==============================] - 5s 95us/step - loss: 0.4223 - acc: 0.8715 - val_loss: 0.2804 - val_acc: 0.9179\n",
      "Epoch 4/7\n",
      "50000/50000 [==============================] - 5s 94us/step - loss: 0.3439 - acc: 0.8958 - val_loss: 0.2299 - val_acc: 0.9327\n",
      "Epoch 5/7\n",
      "50000/50000 [==============================] - 5s 95us/step - loss: 0.2929 - acc: 0.9100 - val_loss: 0.1943 - val_acc: 0.9437\n",
      "Epoch 6/7\n",
      "50000/50000 [==============================] - 5s 94us/step - loss: 0.2548 - acc: 0.9240 - val_loss: 0.1659 - val_acc: 0.9510\n",
      "Epoch 7/7\n",
      "50000/50000 [==============================] - 5s 95us/step - loss: 0.2233 - acc: 0.9329 - val_loss: 0.1477 - val_acc: 0.9553\n",
      "Running with dimension: 3 x 3\n",
      "Train on 50000 samples, validate on 10000 samples\n",
      "Epoch 1/7\n",
      "50000/50000 [==============================] - 6s 116us/step - loss: 1.6656 - acc: 0.5313 - val_loss: 0.6922 - val_acc: 0.7993\n",
      "Epoch 2/7\n",
      "50000/50000 [==============================] - 5s 95us/step - loss: 0.6251 - acc: 0.7993 - val_loss: 0.3783 - val_acc: 0.8938\n",
      "Epoch 3/7\n",
      "50000/50000 [==============================] - 5s 95us/step - loss: 0.4365 - acc: 0.8654 - val_loss: 0.2907 - val_acc: 0.9190\n",
      "Epoch 4/7\n",
      "50000/50000 [==============================] - 5s 95us/step - loss: 0.3629 - acc: 0.8892 - val_loss: 0.2435 - val_acc: 0.9304\n",
      "Epoch 5/7\n",
      "50000/50000 [==============================] - 5s 96us/step - loss: 0.3095 - acc: 0.9056 - val_loss: 0.2054 - val_acc: 0.9403\n",
      "Epoch 6/7\n",
      "50000/50000 [==============================] - 5s 95us/step - loss: 0.2717 - acc: 0.9181 - val_loss: 0.1805 - val_acc: 0.9474\n",
      "Epoch 7/7\n",
      "50000/50000 [==============================] - 5s 95us/step - loss: 0.2424 - acc: 0.9270 - val_loss: 0.1583 - val_acc: 0.9539\n",
      "Running with dimension: 5 x 5\n",
      "Train on 50000 samples, validate on 10000 samples\n",
      "Epoch 1/7\n",
      "50000/50000 [==============================] - 6s 117us/step - loss: 1.6154 - acc: 0.5372 - val_loss: 0.6282 - val_acc: 0.8419\n",
      "Epoch 2/7\n",
      "50000/50000 [==============================] - 5s 95us/step - loss: 0.6052 - acc: 0.8103 - val_loss: 0.3527 - val_acc: 0.9049\n",
      "Epoch 3/7\n",
      "50000/50000 [==============================] - 5s 95us/step - loss: 0.4218 - acc: 0.8717 - val_loss: 0.2720 - val_acc: 0.9256\n",
      "Epoch 4/7\n",
      "50000/50000 [==============================] - 5s 94us/step - loss: 0.3400 - acc: 0.8972 - val_loss: 0.2222 - val_acc: 0.9374\n",
      "Epoch 5/7\n",
      "50000/50000 [==============================] - 5s 95us/step - loss: 0.2861 - acc: 0.9127 - val_loss: 0.1856 - val_acc: 0.9461\n",
      "Epoch 6/7\n",
      "50000/50000 [==============================] - 5s 95us/step - loss: 0.2481 - acc: 0.9248 - val_loss: 0.1674 - val_acc: 0.9501\n",
      "Epoch 7/7\n",
      "50000/50000 [==============================] - 5s 94us/step - loss: 0.2206 - acc: 0.9330 - val_loss: 0.1478 - val_acc: 0.9556\n",
      "Running with dimension: 7 x 7\n",
      "Train on 50000 samples, validate on 10000 samples\n",
      "Epoch 1/7\n",
      "50000/50000 [==============================] - 6s 118us/step - loss: 1.6014 - acc: 0.5458 - val_loss: 0.6377 - val_acc: 0.8338\n",
      "Epoch 2/7\n",
      "50000/50000 [==============================] - 5s 94us/step - loss: 0.6127 - acc: 0.8065 - val_loss: 0.4158 - val_acc: 0.8697\n",
      "Epoch 3/7\n",
      "50000/50000 [==============================] - 5s 96us/step - loss: 0.4368 - acc: 0.8656 - val_loss: 0.2838 - val_acc: 0.9205\n",
      "Epoch 4/7\n",
      "50000/50000 [==============================] - 5s 95us/step - loss: 0.3543 - acc: 0.8914 - val_loss: 0.2463 - val_acc: 0.9277\n",
      "Epoch 5/7\n",
      "50000/50000 [==============================] - 5s 94us/step - loss: 0.3029 - acc: 0.9079 - val_loss: 0.2014 - val_acc: 0.9421\n",
      "Epoch 6/7\n",
      "50000/50000 [==============================] - 5s 94us/step - loss: 0.2622 - acc: 0.9216 - val_loss: 0.1759 - val_acc: 0.9474\n",
      "Epoch 7/7\n",
      "50000/50000 [==============================] - 5s 95us/step - loss: 0.2338 - acc: 0.9288 - val_loss: 0.1559 - val_acc: 0.9528\n",
      "Running with dimension: 9 x 9\n",
      "Train on 50000 samples, validate on 10000 samples\n",
      "Epoch 1/7\n",
      "50000/50000 [==============================] - 6s 118us/step - loss: 1.6018 - acc: 0.5344 - val_loss: 0.6090 - val_acc: 0.8486\n",
      "Epoch 2/7\n",
      "50000/50000 [==============================] - 5s 96us/step - loss: 0.5878 - acc: 0.8136 - val_loss: 0.3727 - val_acc: 0.8941\n",
      "Epoch 3/7\n",
      "50000/50000 [==============================] - 5s 96us/step - loss: 0.4188 - acc: 0.8694 - val_loss: 0.2800 - val_acc: 0.9201\n",
      "Epoch 4/7\n",
      "50000/50000 [==============================] - 5s 95us/step - loss: 0.3398 - acc: 0.8977 - val_loss: 0.2293 - val_acc: 0.9322\n",
      "Epoch 5/7\n",
      "50000/50000 [==============================] - 5s 94us/step - loss: 0.2915 - acc: 0.9118 - val_loss: 0.1933 - val_acc: 0.9431\n",
      "Epoch 6/7\n",
      "50000/50000 [==============================] - 5s 94us/step - loss: 0.2522 - acc: 0.9238 - val_loss: 0.1704 - val_acc: 0.9499\n",
      "Epoch 7/7\n",
      "50000/50000 [==============================] - 5s 94us/step - loss: 0.2236 - acc: 0.9331 - val_loss: 0.1461 - val_acc: 0.9562\n"
     ]
    }
   ],
   "source": [
    "filterdd_parameters = [1,3,5,7,9]\n",
    "fdtrain_errors = []\n",
    "fdval_errors = []\n",
    "fdtime = []\n",
    "for fd in filterdd_parameters:\n",
    "    print(\"Running with dimension:\", fd,\"x\",fd)\n",
    "    model = getModel(numF = 5)\n",
    "    start = time.time()\n",
    "    hist = model.fit(x=train_set[0], y=train_set[1],\n",
    "              epochs=7, batch_size=500,\n",
    "              shuffle=True,\n",
    "              validation_data=val_set)\n",
    "    fdtime.append(time.time() - start)\n",
    "    fdtrain_errors.append(1- hist.history.get('acc')[-1])\n",
    "    fdval_errors.append(1- hist.history.get('val_acc')[-1])"
   ]
  },
  {
   "cell_type": "code",
   "execution_count": 19,
   "metadata": {},
   "outputs": [
    {
     "data": {
      "image/png": "[encoded data removed]",
      "text/plain": [
       "<Figure size 864x288 with 2 Axes>"
      ]
     },
     "metadata": {},
     "output_type": "display_data"
    }
   ],
   "source": [
    "plt.figure(figsize=(12, 4))\n",
    "plt.subplot(1, 2, 1)\n",
    "plt.plot(filterdd_parameters, fdtrain_errors)\n",
    "plt.plot(filterdd_parameters, fdval_errors)\n",
    "plt.legend([\"Training Error\", \"Validation Error\"])\n",
    "plt.xlabel('Filter Dimensions')\n",
    "plt.ylabel('Error Rate')\n",
    "plt.subplot(1, 2, 2)\n",
    "plt.plot(filterdd_parameters, fdtime)\n",
    "plt.xlabel('Filter Dimensions')\n",
    "plt.ylabel('Time (s)')\n",
    "plt.show()"
   ]
  },
  {
   "cell_type": "markdown",
   "metadata": {},
   "source": [
    "The filter demensions have interesting results. The error rate does not seem to depend very much on the dimensions (kernal size) of the filter. The results were best with a kernal size of 5x5 and 9x9. Also, the difference in time is extremely small as shown by the scale on the time graph. Thus, I will conclude that dimensions of filters does not have a very significant impact on the results."
   ]
  },
  {
   "cell_type": "markdown",
   "metadata": {},
   "source": [
    "#### ii. Design a deeper network with the same number of parameters as the original net- work. Report the results."
   ]
  },
  {
   "cell_type": "code",
   "execution_count": 6,
   "metadata": {},
   "outputs": [
    {
     "name": "stdout",
     "output_type": "stream",
     "text": [
      "Running with depth: 1\n",
      "Train on 50000 samples, validate on 10000 samples\n",
      "Epoch 1/10\n",
      "50000/50000 [==============================] - 7s 145us/step - loss: 1.5498 - acc: 0.5629 - val_loss: 0.5914 - val_acc: 0.8489\n",
      "Epoch 2/10\n",
      "50000/50000 [==============================] - 5s 95us/step - loss: 0.5708 - acc: 0.8199 - val_loss: 0.3554 - val_acc: 0.8991\n",
      "Epoch 3/10\n",
      "50000/50000 [==============================] - 5s 97us/step - loss: 0.4085 - acc: 0.8762 - val_loss: 0.2715 - val_acc: 0.9210\n",
      "Epoch 4/10\n",
      "50000/50000 [==============================] - 5s 98us/step - loss: 0.3292 - acc: 0.9008 - val_loss: 0.2200 - val_acc: 0.9358\n",
      "Epoch 5/10\n",
      "50000/50000 [==============================] - 5s 98us/step - loss: 0.2772 - acc: 0.9168 - val_loss: 0.1815 - val_acc: 0.9481\n",
      "Epoch 6/10\n",
      "50000/50000 [==============================] - 5s 98us/step - loss: 0.2405 - acc: 0.9286 - val_loss: 0.1581 - val_acc: 0.9538\n",
      "Epoch 7/10\n",
      "50000/50000 [==============================] - 5s 97us/step - loss: 0.2164 - acc: 0.9354 - val_loss: 0.1409 - val_acc: 0.9571\n",
      "Epoch 8/10\n",
      "50000/50000 [==============================] - 5s 98us/step - loss: 0.1940 - acc: 0.9415 - val_loss: 0.1259 - val_acc: 0.9631\n",
      "Epoch 9/10\n",
      "50000/50000 [==============================] - 5s 97us/step - loss: 0.1766 - acc: 0.9467 - val_loss: 0.1150 - val_acc: 0.9649\n",
      "Epoch 10/10\n",
      "50000/50000 [==============================] - 5s 98us/step - loss: 0.1622 - acc: 0.9511 - val_loss: 0.1044 - val_acc: 0.9683\n",
      "Running with depth: 2\n",
      "Train on 50000 samples, validate on 10000 samples\n",
      "Epoch 1/10\n",
      "50000/50000 [==============================] - 9s 175us/step - loss: 1.5677 - acc: 0.5054 - val_loss: 0.5011 - val_acc: 0.8464\n",
      "Epoch 2/10\n",
      "50000/50000 [==============================] - 8s 152us/step - loss: 0.4848 - acc: 0.8479 - val_loss: 0.2783 - val_acc: 0.9140\n",
      "Epoch 3/10\n",
      "50000/50000 [==============================] - 8s 152us/step - loss: 0.3158 - acc: 0.9023 - val_loss: 0.1953 - val_acc: 0.9385\n",
      "Epoch 4/10\n",
      "50000/50000 [==============================] - 8s 151us/step - loss: 0.2393 - acc: 0.9259 - val_loss: 0.1455 - val_acc: 0.9539\n",
      "Epoch 5/10\n",
      "50000/50000 [==============================] - 8s 152us/step - loss: 0.1971 - acc: 0.9395 - val_loss: 0.1216 - val_acc: 0.9604\n",
      "Epoch 6/10\n",
      "50000/50000 [==============================] - 8s 154us/step - loss: 0.1684 - acc: 0.9475 - val_loss: 0.1059 - val_acc: 0.9645\n",
      "Epoch 7/10\n",
      "50000/50000 [==============================] - 8s 154us/step - loss: 0.1489 - acc: 0.9550 - val_loss: 0.0896 - val_acc: 0.9711\n",
      "Epoch 8/10\n",
      "50000/50000 [==============================] - 8s 154us/step - loss: 0.1366 - acc: 0.9567 - val_loss: 0.0841 - val_acc: 0.9715\n",
      "Epoch 9/10\n",
      "50000/50000 [==============================] - 8s 154us/step - loss: 0.1264 - acc: 0.9613 - val_loss: 0.0759 - val_acc: 0.9749\n",
      "Epoch 10/10\n",
      "50000/50000 [==============================] - 8s 154us/step - loss: 0.1165 - acc: 0.9638 - val_loss: 0.0706 - val_acc: 0.9760\n",
      "Running with depth: 3\n",
      "Train on 50000 samples, validate on 10000 samples\n",
      "Epoch 1/10\n",
      "50000/50000 [==============================] - 11s 228us/step - loss: 1.6069 - acc: 0.4522 - val_loss: 0.4728 - val_acc: 0.8527\n",
      "Epoch 2/10\n",
      "50000/50000 [==============================] - 10s 206us/step - loss: 0.3954 - acc: 0.8759 - val_loss: 0.1936 - val_acc: 0.9416\n",
      "Epoch 3/10\n",
      "50000/50000 [==============================] - 10s 207us/step - loss: 0.2352 - acc: 0.9280 - val_loss: 0.1416 - val_acc: 0.9566\n",
      "Epoch 4/10\n",
      "50000/50000 [==============================] - 10s 206us/step - loss: 0.1795 - acc: 0.9444 - val_loss: 0.1020 - val_acc: 0.9665\n",
      "Epoch 5/10\n",
      "50000/50000 [==============================] - 10s 206us/step - loss: 0.1507 - acc: 0.9527 - val_loss: 0.0903 - val_acc: 0.9723\n",
      "Epoch 6/10\n",
      "50000/50000 [==============================] - 10s 206us/step - loss: 0.1312 - acc: 0.9594 - val_loss: 0.0763 - val_acc: 0.9742\n",
      "Epoch 7/10\n",
      "50000/50000 [==============================] - 10s 207us/step - loss: 0.1162 - acc: 0.9633 - val_loss: 0.0703 - val_acc: 0.9759\n",
      "Epoch 8/10\n",
      "50000/50000 [==============================] - 10s 208us/step - loss: 0.1058 - acc: 0.9666 - val_loss: 0.0634 - val_acc: 0.9795\n",
      "Epoch 9/10\n",
      "50000/50000 [==============================] - 10s 208us/step - loss: 0.0971 - acc: 0.9697 - val_loss: 0.0565 - val_acc: 0.9813\n",
      "Epoch 10/10\n",
      "50000/50000 [==============================] - 10s 207us/step - loss: 0.0927 - acc: 0.9711 - val_loss: 0.0521 - val_acc: 0.9818\n"
     ]
    }
   ],
   "source": [
    "depth_parameters = [1,2,3] \n",
    "dtrain_errors = []\n",
    "dval_errors = []\n",
    "dtime = []\n",
    "for d in depth_parameters:\n",
    "    print(\"Running with depth:\", d)\n",
    "    model = getModel(depth = d)\n",
    "    start = time.time()\n",
    "    hist = model.fit(x=train_set[0], y=train_set[1],\n",
    "              epochs=10, batch_size=500,\n",
    "              shuffle=True,\n",
    "              validation_data=val_set)\n",
    "    dtime.append(time.time() - start)\n",
    "    dtrain_errors.append(1- hist.history.get('acc')[-1])\n",
    "    dval_errors.append(1- hist.history.get('val_acc')[-1])"
   ]
  },
  {
   "cell_type": "code",
   "execution_count": 17,
   "metadata": {},
   "outputs": [
    {
     "data": {
      "image/png": "[encoded data removed]",
      "text/plain": [
       "<Figure size 864x288 with 2 Axes>"
      ]
     },
     "metadata": {},
     "output_type": "display_data"
    }
   ],
   "source": [
    "plt.figure(figsize=(12, 4))\n",
    "plt.subplot(1, 2, 1)\n",
    "plt.plot(depth_parameters, dtrain_errors)\n",
    "plt.plot(depth_parameters, dval_errors)\n",
    "plt.legend([\"Training Error\", \"Validation Error\"])\n",
    "plt.xlabel('Depth')\n",
    "plt.ylabel('Error Rate')\n",
    "plt.subplot(1, 2, 2)\n",
    "plt.plot(depth_parameters, dtime)\n",
    "plt.xlabel('Depth')\n",
    "plt.ylabel('Time (s)')\n",
    "plt.show()"
   ]
  },
  {
   "cell_type": "markdown",
   "metadata": {},
   "source": [
    "The error rate decreases slightly as depth increases. This is the expected behavior as a more complex network will better represent the input data. However, it is important to note that the increase in time is extremely dramatic. This is also expected as a more complex network takes a lot longer to train. I didn't test anything above a depth of 3 as I figured it would take too long."
   ]
  },
  {
   "cell_type": "markdown",
   "metadata": {},
   "source": [
    "#### iii. Once you pick the best configuration try it on the full training set and report the result"
   ]
  },
  {
   "cell_type": "markdown",
   "metadata": {},
   "source": [
    "We will use 20 epochs, filter sizes of 128 and 256, filter dimensions of 5x5 and a depth of 3 as this gets the best results. However, it should be noted that it takes ~8-10 minutes to run on the full data set. However, as a classifier is normally trained once, I feel like this is accepetable."
   ]
  },
  {
   "cell_type": "code",
   "execution_count": 29,
   "metadata": {},
   "outputs": [
    {
     "name": "stdout",
     "output_type": "stream",
     "text": [
      "Train on 50000 samples, validate on 10000 samples\n",
      "Epoch 1/20\n",
      "50000/50000 [==============================] - 24s 480us/step - loss: 1.3335 - acc: 0.5761 - val_loss: 0.3720 - val_acc: 0.8831\n",
      "Epoch 2/20\n",
      "50000/50000 [==============================] - 21s 415us/step - loss: 0.3039 - acc: 0.9060 - val_loss: 0.1561 - val_acc: 0.9515\n",
      "Epoch 3/20\n",
      "50000/50000 [==============================] - 21s 418us/step - loss: 0.1867 - acc: 0.9431 - val_loss: 0.1166 - val_acc: 0.9613\n",
      "Epoch 4/20\n",
      "50000/50000 [==============================] - 21s 417us/step - loss: 0.1402 - acc: 0.9562 - val_loss: 0.0894 - val_acc: 0.9702\n",
      "Epoch 5/20\n",
      "50000/50000 [==============================] - 21s 418us/step - loss: 0.1149 - acc: 0.9636 - val_loss: 0.0719 - val_acc: 0.9763\n",
      "Epoch 6/20\n",
      "50000/50000 [==============================] - 21s 418us/step - loss: 0.1004 - acc: 0.9685 - val_loss: 0.0660 - val_acc: 0.9766\n",
      "Epoch 7/20\n",
      "50000/50000 [==============================] - 21s 418us/step - loss: 0.0900 - acc: 0.9717 - val_loss: 0.0542 - val_acc: 0.9825\n",
      "Epoch 8/20\n",
      "50000/50000 [==============================] - 21s 419us/step - loss: 0.0819 - acc: 0.9740 - val_loss: 0.0493 - val_acc: 0.9840\n",
      "Epoch 9/20\n",
      "50000/50000 [==============================] - 21s 419us/step - loss: 0.0763 - acc: 0.9765 - val_loss: 0.0495 - val_acc: 0.9834\n",
      "Epoch 10/20\n",
      "50000/50000 [==============================] - 21s 422us/step - loss: 0.0698 - acc: 0.9781 - val_loss: 0.0455 - val_acc: 0.9846\n",
      "Epoch 11/20\n",
      "50000/50000 [==============================] - 21s 420us/step - loss: 0.0651 - acc: 0.9794 - val_loss: 0.0436 - val_acc: 0.9851\n",
      "Epoch 12/20\n",
      "50000/50000 [==============================] - 21s 421us/step - loss: 0.0628 - acc: 0.9801 - val_loss: 0.0411 - val_acc: 0.9857\n",
      "Epoch 13/20\n",
      "50000/50000 [==============================] - 21s 420us/step - loss: 0.0587 - acc: 0.9824 - val_loss: 0.0382 - val_acc: 0.9870\n",
      "Epoch 14/20\n",
      "50000/50000 [==============================] - 21s 419us/step - loss: 0.0546 - acc: 0.9827 - val_loss: 0.0371 - val_acc: 0.9868\n",
      "Epoch 15/20\n",
      "50000/50000 [==============================] - 21s 419us/step - loss: 0.0530 - acc: 0.9834 - val_loss: 0.0353 - val_acc: 0.9876\n",
      "Epoch 16/20\n",
      "50000/50000 [==============================] - 21s 419us/step - loss: 0.0511 - acc: 0.9838 - val_loss: 0.0339 - val_acc: 0.9884\n",
      "Epoch 17/20\n",
      "50000/50000 [==============================] - 21s 419us/step - loss: 0.0473 - acc: 0.9852 - val_loss: 0.0344 - val_acc: 0.9877\n",
      "Epoch 18/20\n",
      "50000/50000 [==============================] - 21s 419us/step - loss: 0.0443 - acc: 0.9862 - val_loss: 0.0322 - val_acc: 0.9894\n",
      "Epoch 19/20\n",
      "50000/50000 [==============================] - 21s 420us/step - loss: 0.0436 - acc: 0.9863 - val_loss: 0.0321 - val_acc: 0.9892\n",
      "Epoch 20/20\n",
      "50000/50000 [==============================] - 21s 422us/step - loss: 0.0444 - acc: 0.9864 - val_loss: 0.0296 - val_acc: 0.9899\n",
      "10000/10000 [==============================] - 3s 300us/step\n",
      "The training error rate is 0.013640000224113491\n",
      "The validaiton error rate is 0.010100001096725486\n",
      "The testing error rate is 0.011700000000000044\n"
     ]
    }
   ],
   "source": [
    "model = getModel(f1 = 64, f2 = 128, numF = 5, depth = 3)\n",
    "hist = model.fit(x=train_set[0], y=train_set[1],\n",
    "              epochs=20, batch_size=500,\n",
    "              shuffle=True,\n",
    "              validation_data=val_set)\n",
    "test_error = 1- model.evaluate(test_set[0], test_set[1])[1]\n",
    "print(\"The training error rate is\", 1- hist.history.get('acc')[-1])\n",
    "print(\"The validaiton error rate is\", 1- hist.history.get('val_acc')[-1])\n",
    "print(\"The testing error rate is\", test_error)"
   ]
  },
  {
   "cell_type": "markdown",
   "metadata": {},
   "source": [
    "This error rate is extremely good and thus our optimal model performed extremely well. It does take a long time and the error decreases marginally after the first 8 or so epochs. However, the marginal increase is defintely beneficial if this model was actually going to be used in practice and thus the time cost is worth the increase in accuracy."
   ]
  },
  {
   "cell_type": "markdown",
   "metadata": {},
   "source": [
    "### (c) Handling variability. A transformed data set /project/cmsc25025/mnist/MNIST TRANSFOR has been created by taking each digit, rotating it by a random angle between [-40,-20]or [20,40], applying a random shift of +/− 3 pixels in each direction and applying a random scale between [.9, 1.1].\n"
   ]
  },
  {
   "cell_type": "code",
   "execution_count": 5,
   "metadata": {},
   "outputs": [],
   "source": [
    "XT = np.load('/project2/cmsc25025/mnist/MNIST_TEST_TRANS.npy').reshape(-1,28,28,1).astype(np.float64) / 255.\n",
    "n = 70000\n",
    "trans_train_set = (XT[:int(5/7 * n)], Y[:int(5/7 * n)])\n",
    "trans_val_set = (XT[int(5/7 * n):int(6/7 * n)], Y[int(5/7 * n):int(6/7 * n)])\n",
    "trans_test_set = (XT[int(6/7 * n):n], Y[int(6/7 * n):n])"
   ]
  },
  {
   "cell_type": "markdown",
   "metadata": {},
   "source": [
    "#### Display a few of these examples alongside the original digits."
   ]
  },
  {
   "cell_type": "code",
   "execution_count": 10,
   "metadata": {},
   "outputs": [
    {
     "data": {
      "image/png": "[encoded data removed]",
      "text/plain": [
       "<Figure size 1440x288 with 20 Axes>"
      ]
     },
     "metadata": {},
     "output_type": "display_data"
    }
   ],
   "source": [
    "XXT = []\n",
    "for i in range(10):\n",
    "    XXT.append(X[i])\n",
    "    XXT.append(XT[i])\n",
    "\n",
    "XXT = np.array(XXT)\n",
    "show_image(XXT,2,10)"
   ]
  },
  {
   "cell_type": "markdown",
   "metadata": {},
   "source": [
    "#### Using the original architecture to test on this data set. The classification rate drops dramatically."
   ]
  },
  {
   "cell_type": "code",
   "execution_count": 7,
   "metadata": {},
   "outputs": [
    {
     "name": "stdout",
     "output_type": "stream",
     "text": [
      "Train on 50000 samples, validate on 10000 samples\n",
      "Epoch 1/10\n",
      "50000/50000 [==============================] - 5s 101us/step - loss: 2.3022 - acc: 0.1135 - val_loss: 2.3019 - val_acc: 0.1135\n",
      "Epoch 2/10\n",
      "50000/50000 [==============================] - 4s 87us/step - loss: 2.3017 - acc: 0.1136 - val_loss: 2.3015 - val_acc: 0.1135\n",
      "Epoch 3/10\n",
      "50000/50000 [==============================] - 4s 87us/step - loss: 2.3013 - acc: 0.1136 - val_loss: 2.3013 - val_acc: 0.1135\n",
      "Epoch 4/10\n",
      "50000/50000 [==============================] - 4s 87us/step - loss: 2.3011 - acc: 0.1136 - val_loss: 2.3011 - val_acc: 0.1135\n",
      "Epoch 5/10\n",
      "50000/50000 [==============================] - 4s 87us/step - loss: 2.3010 - acc: 0.1136 - val_loss: 2.3010 - val_acc: 0.1135\n",
      "Epoch 6/10\n",
      "50000/50000 [==============================] - 4s 87us/step - loss: 2.3009 - acc: 0.1136 - val_loss: 2.3009 - val_acc: 0.1135\n",
      "Epoch 7/10\n",
      "50000/50000 [==============================] - 4s 87us/step - loss: 2.3008 - acc: 0.1136 - val_loss: 2.3008 - val_acc: 0.1135\n",
      "Epoch 8/10\n",
      "50000/50000 [==============================] - 4s 87us/step - loss: 2.3007 - acc: 0.1136 - val_loss: 2.3007 - val_acc: 0.1135\n",
      "Epoch 9/10\n",
      "50000/50000 [==============================] - 4s 88us/step - loss: 2.3006 - acc: 0.1136 - val_loss: 2.3007 - val_acc: 0.1135\n",
      "Epoch 10/10\n",
      "50000/50000 [==============================] - 4s 88us/step - loss: 2.3006 - acc: 0.1136 - val_loss: 2.3006 - val_acc: 0.1135\n",
      "10000/10000 [==============================] - 1s 72us/step\n",
      "The training error rate is 0.8864399997144937\n",
      "The validaiton error rate is 0.8864999998360872\n",
      "The testing error rate is 0.8936\n"
     ]
    }
   ],
   "source": [
    "model = getModel()\n",
    "hist = model.fit(x=trans_train_set[0], y=trans_train_set[1],\n",
    "              epochs=10, batch_size=500,\n",
    "              shuffle=True,\n",
    "              validation_data=trans_val_set)\n",
    "test_error = 1- model.evaluate(trans_test_set[0], trans_test_set[1])[1]\n",
    "print(\"The training error rate is\", 1- hist.history.get('acc')[-1])\n",
    "print(\"The validaiton error rate is\", 1- hist.history.get('val_acc')[-1])\n",
    "print(\"The testing error rate is\", test_error)"
   ]
  },
  {
   "cell_type": "markdown",
   "metadata": {},
   "source": [
    "#### Try to propose changes to the network architecture so that still training on the original training set you would perform better on the transformed test set. Perform some experiments using a transformed validation set and show the final results on the transformed test set."
   ]
  },
  {
   "cell_type": "markdown",
   "metadata": {},
   "source": [
    "First, I will run the model with the original train data and the transformed validation set."
   ]
  },
  {
   "cell_type": "code",
   "execution_count": 85,
   "metadata": {},
   "outputs": [
    {
     "name": "stdout",
     "output_type": "stream",
     "text": [
      "Train on 50000 samples, validate on 10000 samples\n",
      "Epoch 1/10\n",
      "50000/50000 [==============================] - 8s 164us/step - loss: 1.6698 - acc: 0.5278 - val_loss: 2.2973 - val_acc: 0.1282\n",
      "Epoch 2/10\n",
      "50000/50000 [==============================] - 4s 88us/step - loss: 0.5667 - acc: 0.8221 - val_loss: 2.2980 - val_acc: 0.1135\n",
      "Epoch 3/10\n",
      "50000/50000 [==============================] - 4s 88us/step - loss: 0.3891 - acc: 0.8839 - val_loss: 2.2979 - val_acc: 0.1135\n",
      "Epoch 4/10\n",
      "50000/50000 [==============================] - 4s 88us/step - loss: 0.3165 - acc: 0.9056 - val_loss: 2.2977 - val_acc: 0.1135\n",
      "Epoch 5/10\n",
      "50000/50000 [==============================] - 4s 88us/step - loss: 0.2709 - acc: 0.9195 - val_loss: 2.2973 - val_acc: 0.1135\n",
      "Epoch 6/10\n",
      "50000/50000 [==============================] - 4s 88us/step - loss: 0.2345 - acc: 0.9289 - val_loss: 2.2964 - val_acc: 0.1135\n",
      "Epoch 7/10\n",
      "50000/50000 [==============================] - 4s 88us/step - loss: 0.2130 - acc: 0.9362 - val_loss: 2.2957 - val_acc: 0.1144\n",
      "Epoch 8/10\n",
      "50000/50000 [==============================] - 4s 88us/step - loss: 0.1921 - acc: 0.9426 - val_loss: 2.2952 - val_acc: 0.1142\n",
      "Epoch 9/10\n",
      "50000/50000 [==============================] - 4s 88us/step - loss: 0.1761 - acc: 0.9472 - val_loss: 2.2949 - val_acc: 0.1152\n",
      "Epoch 10/10\n",
      "50000/50000 [==============================] - 4s 89us/step - loss: 0.1630 - acc: 0.9499 - val_loss: 2.2943 - val_acc: 0.1159\n",
      "The transformed validation error rate is 0.8840999994426966\n"
     ]
    }
   ],
   "source": [
    "model = getModel()\n",
    "hist = model.fit(x=train_set[0], y=train_set[1],\n",
    "              epochs=10, batch_size=500,\n",
    "              shuffle=True,\n",
    "              validation_data=trans_val_set)\n",
    "print(\"The transformed validation error rate is\", 1- hist.history.get('val_acc')[-1])"
   ]
  },
  {
   "cell_type": "markdown",
   "metadata": {},
   "source": [
    "To prevent overfitting and increase the accuracy in the validation set, I tried multiple things. This includes using a lower number of filters, using a lower kernal size changing the depth, changing the dropout rate and adding a regularizer. Generally, I tried to make changes that would make the model less specific and thus overfit less. <br>\n",
    "\n",
    "Here is the best model that I came up with:"
   ]
  },
  {
   "cell_type": "code",
   "execution_count": 95,
   "metadata": {},
   "outputs": [],
   "source": [
    "def getTransformedModel(f1 = 32, f2 = 64, numF = 5, depth = 1):\n",
    "    model = keras.models.Sequential()\n",
    "    model.add(keras.layers.InputLayer((28,28,1)))\n",
    "    model.add(keras.layers.Conv2D(filters=f1, kernel_size=(numF,numF), padding='same', activation='relu', kernel_regularizer = keras.regularizers.l2(0.05)))\n",
    "    model.add(keras.layers.MaxPool2D())\n",
    "    model.add(keras.layers.Dropout(rate=0.4))\n",
    "    for i in range(depth):\n",
    "        model.add(keras.layers.Conv2D(filters=f2, kernel_size=(numF,numF), padding='same', activation='relu', kernel_regularizer = keras.regularizers.l2(0.05)))\n",
    "    model.add(keras.layers.MaxPool2D())\n",
    "    model.add(keras.layers.Dropout(rate=0.4))\n",
    "    model.add(keras.layers.Flatten())\n",
    "    model.add(keras.layers.Dense(units=1024, activation='relu'))\n",
    "    model.add(keras.layers.Dense(units=10, activation='softmax'))\n",
    "    model.compile(optimizer=tf.train.AdadeltaOptimizer(0.1),\n",
    "                  loss='categorical_crossentropy',\n",
    "                  metrics=['accuracy'])\n",
    "    return model"
   ]
  },
  {
   "cell_type": "code",
   "execution_count": 96,
   "metadata": {},
   "outputs": [
    {
     "name": "stdout",
     "output_type": "stream",
     "text": [
      "Train on 50000 samples, validate on 10000 samples\n",
      "Epoch 1/10\n",
      "50000/50000 [==============================] - 8s 157us/step - loss: 1.8966 - acc: 0.5349 - val_loss: 2.5617 - val_acc: 0.1652\n",
      "Epoch 2/10\n",
      "50000/50000 [==============================] - 3s 70us/step - loss: 0.8918 - acc: 0.8034 - val_loss: 2.5478 - val_acc: 0.1687\n",
      "Epoch 3/10\n",
      "50000/50000 [==============================] - 4s 70us/step - loss: 0.7137 - acc: 0.8548 - val_loss: 2.5348 - val_acc: 0.1553\n",
      "Epoch 4/10\n",
      "50000/50000 [==============================] - 4s 70us/step - loss: 0.6284 - acc: 0.8769 - val_loss: 2.5221 - val_acc: 0.1527\n",
      "Epoch 5/10\n",
      "50000/50000 [==============================] - 4s 70us/step - loss: 0.5673 - acc: 0.8943 - val_loss: 2.5105 - val_acc: 0.1279\n",
      "Epoch 6/10\n",
      "50000/50000 [==============================] - 4s 70us/step - loss: 0.5229 - acc: 0.9030 - val_loss: 2.5001 - val_acc: 0.1289\n",
      "Epoch 7/10\n",
      "50000/50000 [==============================] - 4s 70us/step - loss: 0.4846 - acc: 0.9127 - val_loss: 2.4907 - val_acc: 0.1222\n",
      "Epoch 8/10\n",
      "50000/50000 [==============================] - 4s 70us/step - loss: 0.4506 - acc: 0.9214 - val_loss: 2.4824 - val_acc: 0.1374\n",
      "Epoch 9/10\n",
      "50000/50000 [==============================] - 4s 70us/step - loss: 0.4223 - acc: 0.9270 - val_loss: 2.4743 - val_acc: 0.1649\n",
      "Epoch 10/10\n",
      "50000/50000 [==============================] - 4s 70us/step - loss: 0.3974 - acc: 0.9320 - val_loss: 2.4671 - val_acc: 0.1743\n",
      "The transformed validation error rate is 0.8256999976933003\n"
     ]
    }
   ],
   "source": [
    "model = getTransformedModel(f1 = 16, f2=64)\n",
    "hist = model.fit(x=train_set[0], y=train_set[1],\n",
    "              epochs=10, batch_size=500,\n",
    "              shuffle=True,\n",
    "              validation_data=trans_val_set)\n",
    "print(\"The transformed validation error rate is\", 1- hist.history.get('val_acc')[-1])"
   ]
  },
  {
   "cell_type": "markdown",
   "metadata": {},
   "source": [
    "None of my proposed changes worked too well. The best error rate I got from making changes was 0.83 when I used regularization and less filters on the first filter layer. Unfortunately, this is still very high. It is interesting to see how hard it is to make a model that can work on transformed data. I generally found that the validation error rate decreased as more epochs were run. This makes sense as more epochs specifies the model more, but  the goal is to have a model that can be trained with more epochs and not have the validiation error rate decrease."
   ]
  },
  {
   "cell_type": "code",
   "execution_count": null,
   "metadata": {},
   "outputs": [],
   "source": []
  }
 ],
 "metadata": {
  "kernelspec": {
   "display_name": "Python [conda env:DL_GPU_cuda_9.0]",
   "language": "python",
   "name": "conda-env-DL_GPU_cuda_9.0-py"
  },
  "language_info": {
   "codemirror_mode": {
    "name": "ipython",
    "version": 3
   },
   "file_extension": ".py",
   "mimetype": "text/x-python",
   "name": "python",
   "nbconvert_exporter": "python",
   "pygments_lexer": "ipython3",
   "version": "3.6.5"
  }
 },
 "nbformat": 4,
 "nbformat_minor": 2
}
