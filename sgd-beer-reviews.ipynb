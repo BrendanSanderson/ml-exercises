{
 "cells": [
  {
   "cell_type": "markdown",
   "metadata": {},
   "source": [
    "# Stochastic gradient descent on beer reviews"
   ]
  },
  {
   "cell_type": "markdown",
   "metadata": {},
   "source": [
    "I collaborated with Ruben Abbou."
   ]
  },
  {
   "cell_type": "code",
   "execution_count": 69,
   "metadata": {},
   "outputs": [],
   "source": [
    "import numpy as np\n",
    "import json\n",
    "import re\n",
    "import matplotlib.pyplot as plt\n",
    "from scipy.sparse import csr_matrix\n",
    "from sklearn.linear_model import LogisticRegression\n",
    "from sklearn.svm import LinearSVC\n",
    "import time\n",
    "import random\n",
    "from math import exp"
   ]
  },
  {
   "cell_type": "code",
   "execution_count": 70,
   "metadata": {},
   "outputs": [],
   "source": [
    "with open('/project2/cmsc25025/beer_review/labeled.json', 'r') as f:\n",
    "    brv = json.loads(f.read())"
   ]
  },
  {
   "cell_type": "markdown",
   "metadata": {},
   "source": [
    "## Part 1: Data inspection.\n",
    "To warm up, check the mean, median and standard deviation of the overall ratings for each beer and brewer. Do you think people have similar taste?"
   ]
  },
  {
   "cell_type": "code",
   "execution_count": 71,
   "metadata": {},
   "outputs": [],
   "source": [
    "beers = set([br['beer_name'] for br in brv])\n",
    "brewers = set([br['brewer'] for br in brv])"
   ]
  },
  {
   "cell_type": "code",
   "execution_count": 72,
   "metadata": {},
   "outputs": [],
   "source": [
    "beer_values = {}\n",
    "for b in beers:\n",
    "    beer_values[b] = []\n",
    "for b in brv:\n",
    "    beer_values[b['beer_name']].append(b['overall'])\n",
    "beer_statistics = {}\n",
    "for k,v in beer_values.items():\n",
    "    beer_statistics[k] = {'sd': np.std(v), 'median': np.median(v), 'mean':np.mean(v)}"
   ]
  },
  {
   "cell_type": "code",
   "execution_count": 73,
   "metadata": {},
   "outputs": [],
   "source": [
    "brewer_values = {}\n",
    "for b in brewers:\n",
    "    brewer_values[b] = []\n",
    "for b in brv:\n",
    "    brewer_values[b['brewer']].append(b['overall'])\n",
    "brewer_statistics = {}\n",
    "for k,v in brewer_values.items():\n",
    "    brewer_statistics[k] = {'sd': np.std(v), 'median': np.median(v), 'mean':np.mean(v)}"
   ]
  },
  {
   "cell_type": "code",
   "execution_count": 78,
   "metadata": {},
   "outputs": [
    {
     "name": "stdout",
     "output_type": "stream",
     "text": [
      "Beer: Schoune La Trip des Schoune\n",
      "mean: 12.17910447761194 median: 13.0 sd: 2.849065692019515\n",
      "Beer: Full Circle Euro-Fuggle\n",
      "mean: 12.285714285714286 median: 11.0 sd: 3.1036515689143473\n",
      "Beer: Blue Frog 10th Anniversary Ale\n",
      "mean: 15.166666666666666 median: 16.0 sd: 2.266911751455907\n",
      "Beer: Quay Street Blue Water Pale Ale\n",
      "mean: 12.0 median: 11.5 sd: 1.632993161855452\n",
      "Beer: Captain Lawrence Barrel Select Cherry\n",
      "mean: 14.0 median: 14.5 sd: 1.632993161855452\n",
      "Beer: Lost Abbey Gift of the Magi\n",
      "mean: 15.01126126126126 median: 15.0 sd: 1.7313638935078186\n",
      "Beer: John Harvards Brewers Gold\n",
      "mean: 10.0 median: 10.0 sd: 0.0\n",
      "Beer: Kelham Island Island\n",
      "mean: 13.4 median: 13.0 sd: 0.48989794855663565\n",
      "Beer: Hidden Fantasy\n",
      "mean: 12.0625 median: 12.0 sd: 2.0757152381769517\n",
      "Beer: Red Rock Czech Pilsner\n",
      "mean: 9.5 median: 9.0 sd: 2.362907813126304\n",
      "Beer: Bull Falls March Madness Ale\n",
      "mean: 15.0 median: 15.0 sd: 0.0\n",
      "Beer: Freisinger Schwarzbier\n",
      "mean: 12.307692307692308 median: 12.0 sd: 1.6817854699288806\n",
      "Beer: BryggeriKAIA Bayer\n",
      "mean: 14.0 median: 14.0 sd: 0.0\n",
      "Beer: Bayhawk Stout\n",
      "mean: 16.0 median: 16.0 sd: 1.0\n",
      "Beer: Claymore Lager\n",
      "mean: 9.0 median: 9.0 sd: 0.0\n",
      "Beer: Ritter Schwarz\n",
      "mean: 14.555555555555555 median: 15.0 sd: 2.408831487630978\n",
      "Beer: Three Boys Porter\n",
      "mean: 13.36 median: 13.0 sd: 1.8736061485808588\n",
      "Beer: Welde Remix\n",
      "mean: 5.833333333333333 median: 6.0 sd: 2.074983266331455\n",
      "Beer: Wye Valley Rapid Ale\n",
      "mean: 12.426229508196721 median: 13.0 sd: 1.928721791914188\n",
      "Beer: Cottage Planet Ale\n",
      "mean: 13.0 median: 13.0 sd: 0.0\n",
      "Beer: Earth We Heavy Yo\n",
      "mean: 15.133333333333333 median: 15.0 sd: 1.024152766382481\n",
      "Beer: Kenbach Beer\n",
      "mean: 6.0 median: 6.0 sd: 0.0\n",
      "Beer: Little Valley Yorkshire Hemp\n",
      "mean: 9.5 median: 9.5 sd: 3.5\n",
      "Beer: Dark Star Summer Meltdown\n",
      "mean: 13.0 median: 13.5 sd: 2.700762419587999\n",
      "Beer: North Country Abbey Holiday Ale\n",
      "mean: 9.0 median: 9.0 sd: 0.0\n",
      "Beer: Kronen Gold-Export\n",
      "mean: 12.166666666666666 median: 12.5 sd: 1.674979270186815\n",
      "Beer: Funfair Candy Floss\n",
      "mean: 15.0 median: 15.0 sd: 0.0\n",
      "Beer: Delafield Leisure Beer\n",
      "mean: 11.5 median: 11.5 sd: 2.5\n",
      "Beer: Coronado Seasons Best Winter Brew\n",
      "mean: 14.0 median: 14.0 sd: 1.591644851508443\n",
      "Beer: Papa Murphys Irish Amber Ale\n",
      "mean: 13.6 median: 14.0 sd: 1.4966629547095764\n",
      "Beer: Empire Royal Mead\n",
      "mean: 15.56 median: 16.0 sd: 1.820183140968696\n",
      "Beer: Elegancia Clasico\n",
      "mean: 16.0 median: 16.0 sd: 0.0\n",
      "Beer: Victory CBC Saison\n",
      "mean: 14.0 median: 14.0 sd: 1.0289915108550531\n",
      "Beer: Brau Brothers Extra Special Bitter\n",
      "mean: 13.473684210526315 median: 14.0 sd: 2.962367848309534\n",
      "Beer: La Jolla Brewhouse Pilsner\n",
      "mean: 14.0 median: 14.0 sd: 0.0\n",
      "Beer: Dempseys Petaluma Strong Ale\n",
      "mean: 13.8 median: 14.0 sd: 1.3266499161421599\n",
      "Beer: Wabash Pilsner\n",
      "mean: 10.0 median: 10.0 sd: 0.0\n",
      "Beer: Shepherd Neame Tapping The Admiral &#40;Bottle&#41;\n",
      "mean: 11.555555555555555 median: 12.0 sd: 1.0657403385139377\n",
      "Beer: Weasel Boy Feisty Fisher Amber Ale\n",
      "mean: 13.0 median: 13.0 sd: 0.816496580927726\n",
      "Beer: Bristol Beer Factory Ultimate Stout\n",
      "mean: 14.74074074074074 median: 15.0 sd: 1.4035033571478825\n",
      "Beer: The Civil Life Black Ale\n",
      "mean: 15.0 median: 15.0 sd: 0.816496580927726\n",
      "Beer: Il Vicino Sweet Sanderine Porter\n",
      "mean: 14.555555555555555 median: 14.0 sd: 0.9558139185602919\n",
      "Beer: Silverado Scottish Ale with Heather Tips\n",
      "mean: 10.0 median: 10.0 sd: 0.0\n",
      "Beer: Wormtown Beer Goggles Barleywine\n",
      "mean: 15.0 median: 15.0 sd: 0.0\n",
      "Beer: Saint-Bock 666\n",
      "mean: 13.7 median: 13.0 sd: 1.3453624047073711\n",
      "Beer: Barhop Judge Porter\n",
      "mean: 13.333333333333334 median: 14.0 sd: 1.3333333333333333\n",
      "Beer: Mallinsons Lynx\n",
      "mean: 13.0 median: 13.0 sd: 0.0\n",
      "Beer: 5 Seasons North AK-47 Mild Ale\n",
      "mean: 13.6 median: 13.0 sd: 1.2\n",
      "Beer: Goose Island Extremely Naughty Goose\n",
      "mean: 15.066666666666666 median: 15.0 sd: 1.4360439485692011\n",
      "Beer: Wedge Derailed iHemp Ale\n",
      "mean: 14.333333333333334 median: 14.5 sd: 1.9720265943665385\n",
      "Beer: Casco Bay Carrabassett IPA\n",
      "mean: 11.88888888888889 median: 11.0 sd: 2.5579698740491863\n",
      "Beer: Michelbacher Schwarzer Adler Dunkles Export\n",
      "mean: 12.0 median: 11.5 sd: 1.224744871391589\n",
      "Beer: North By Northwest Guldenbiere &#40;2005, 2007 and later&#41;\n",
      "mean: 15.074074074074074 median: 15.0 sd: 1.8242385712629259\n",
      "Beer: Shenandoah Blueberry Blonde\n",
      "mean: 10.5 median: 10.5 sd: 2.5\n",
      "Beer: Durham St Cuthbert\n",
      "mean: 13.909090909090908 median: 14.0 sd: 1.888780853605748\n",
      "Beer: Pittsburgh Gold Crown Premium Beer\n",
      "mean: 1.0 median: 1.0 sd: 0.0\n",
      "Beer: Sierra Madre Brewing Regio Light\n",
      "mean: 12.75 median: 11.5 sd: 4.437059837324712\n",
      "Beer: Blue Mountain Blue Reserve 2010\n",
      "mean: 14.6 median: 15.0 sd: 1.8547236990991407\n",
      "Beer: Big Dogs Red Hydrant Ale\n",
      "mean: 11.777777777777779 median: 12.0 sd: 1.6850834320114556\n",
      "Beer: Turtle Mountain Heather Scotch\n",
      "mean: 15.5 median: 15.5 sd: 0.5\n",
      "Beer: Saxer JackFrost Winter Doppelbock\n",
      "mean: 13.044117647058824 median: 13.0 sd: 2.3975098817769225\n",
      "Beer: North Peak Berserker\n",
      "mean: 17.0 median: 17.0 sd: 0.0\n",
      "Beer: Old Testy Stout\n",
      "mean: 13.2 median: 15.0 sd: 3.655133376499413\n",
      "Beer: Sweetwater Tavern Black IPA\n",
      "mean: 13.0 median: 13.0 sd: 0.0\n",
      "Beer: Amalgamated Imperial Oktoberfest &#40;Marzen&#41;\n",
      "mean: 15.0 median: 15.0 sd: 0.0\n",
      "Beer: Bull & Bush Ice Cream Clone Stout\n",
      "mean: 15.6 median: 16.0 sd: 1.624807680927192\n",
      "Beer: Acorn Simcoe IPA\n",
      "mean: 14.0 median: 14.0 sd: 0.816496580927726\n",
      "Beer: Maine Mead Works HoneyMaker Dry Hopped Mead\n",
      "mean: 11.714285714285714 median: 11.0 sd: 3.6140316116210047\n",
      "Beer: Great Waters Capitol ESB\n",
      "mean: 14.5 median: 14.5 sd: 0.5\n",
      "Beer: Brutopia Honey Brown\n",
      "mean: 10.75 median: 11.0 sd: 2.4585855399279595\n",
      "Beer: Ithaca Double IPA\n",
      "mean: 14.492537313432836 median: 15.0 sd: 1.7005103213698292\n",
      "Beer: Pocono Lager\n",
      "mean: 10.204545454545455 median: 10.0 sd: 3.0119424829603165\n",
      "Beer: Hartwall Karjala Terva &#40;6.3% version&#41;\n",
      "mean: 10.363636363636363 median: 10.0 sd: 2.6148547884611664\n",
      "Beer: Hartlands Medium Sweet Perry\n",
      "mean: 14.2 median: 15.0 sd: 1.1661903789690602\n",
      "Beer: Sarasota Brewing Coriander Wheat\n",
      "mean: 12.0 median: 12.0 sd: 1.0\n",
      "Beer: New Old Lompoc Crystal Missile Saison\n",
      "mean: 11.0 median: 11.0 sd: 0.0\n",
      "Beer: Samuel Adams Oatmeal Stout\n",
      "mean: 12.727272727272727 median: 14.0 sd: 3.3053925386723346\n",
      "Beer: Arcadia Starboard Stout\n",
      "mean: 12.868312757201647 median: 13.0 sd: 2.125473569337544\n",
      "Beer: Oggis HoliDazed Ale\n",
      "mean: 11.0 median: 11.0 sd: 1.0\n",
      "Beer: Big Dogs Mango Madness\n",
      "mean: 4.0 median: 4.0 sd: 0.0\n",
      "Beer: Bushwakker Northern Lights Lager\n",
      "mean: 11.8 median: 12.0 sd: 2.7129319932501073\n",
      "Beer: Smuttynose Oak-aged Terminator G-Bock\n",
      "mean: 14.857142857142858 median: 14.0 sd: 1.8070158058105024\n",
      "Beer: The Lucky Monk Tritica Wheat\n",
      "mean: 14.0 median: 13.5 sd: 1.8708286933869707\n",
      "Beer: Buntingford Honeyway\n",
      "mean: 13.0 median: 13.0 sd: 0.0\n",
      "Beer: Moab Brewery Desert Select Scotch Ale\n",
      "mean: 14.333333333333334 median: 15.0 sd: 1.699673171197595\n",
      "Beer: Brewers Art 10th Anniversary Ale\n",
      "mean: 15.285714285714286 median: 15.0 sd: 0.45175395145262565\n",
      "Beer: Clarks Code Red\n",
      "mean: 11.0 median: 11.0 sd: 1.0\n",
      "Beer: Lambrate Beccamort\n",
      "mean: 12.962962962962964 median: 13.0 sd: 1.5748364167014295\n",
      "Beer: Camerons Pomegranate Cream\n",
      "mean: 14.11111111111111 median: 15.0 sd: 1.3698697784375502\n",
      "Beer: Ryburn Best Mild\n",
      "mean: 13.4 median: 13.0 sd: 1.8547236990991407\n",
      "Beer: Bergadler Premium Pils 3.5\n",
      "mean: 11.0 median: 11.0 sd: 0.816496580927726\n",
      "Beer: Bullfrog eSTEAMed Beer\n",
      "mean: 13.2 median: 13.0 sd: 1.9390719429665317\n",
      "Beer: Lake Placid Pulpit Rock Dopplebock\n",
      "mean: 15.0 median: 15.0 sd: 0.0\n",
      "Beer: Sly Fox Slacker Eisbock\n",
      "mean: 14.166666666666666 median: 14.5 sd: 0.8975274678557508\n",
      "Beer: Flying Bison Bird of Prey IPA\n",
      "mean: 12.692307692307692 median: 13.0 sd: 1.3234346564680965\n",
      "Beer: Revolution El Bastardo\n",
      "mean: 13.5 median: 14.0 sd: 2.29128784747792\n",
      "Beer: Kaiser Wilhelm II Premium Pils\n",
      "mean: 11.0 median: 11.0 sd: 0.0\n",
      "Beer: Flying Fish Love Fish\n",
      "mean: 14.518518518518519 median: 15.0 sd: 1.4998856838012287\n",
      "Beer: 21st Amendment Belgian Strong Ale\n",
      "mean: 15.0 median: 15.0 sd: 0.0\n",
      "Beer: Cascade Amber Wheat\n",
      "mean: 13.5 median: 13.5 sd: 0.5\n",
      "\n",
      "\n",
      "Brewer: 0\n",
      "mean: 12.836223506743737 median: 13.0 sd: 2.5432971325766625\n",
      "Brewer: 1\n",
      "mean: 13.251677852348994 median: 14.0 sd: 2.7974845850519783\n",
      "Brewer: 2\n",
      "mean: 14.822445170321979 median: 15.0 sd: 2.243541088466132\n",
      "Brewer: 3\n",
      "mean: 13.8 median: 14.0 sd: 2.6381811916545836\n",
      "Brewer: 4\n",
      "mean: 11.64 median: 12.0 sd: 2.4799999999999995\n",
      "Brewer: 5\n",
      "mean: 10.0 median: 10.0 sd: 0.0\n",
      "Brewer: 6\n",
      "mean: 9.86111111111111 median: 11.0 sd: 4.619720877678035\n",
      "Brewer: 7\n",
      "mean: 9.206106870229007 median: 9.0 sd: 3.174607163897181\n",
      "Brewer: 8\n",
      "mean: 12.442857142857143 median: 13.0 sd: 2.168842444950856\n",
      "Brewer: 9\n",
      "mean: 9.533333333333333 median: 10.0 sd: 3.630733014450694\n",
      "Brewer: 10\n",
      "mean: 14.141904761904762 median: 14.0 sd: 2.2235084939517855\n",
      "Brewer: 11\n",
      "mean: 13.867924528301886 median: 14.0 sd: 1.6372749547106897\n",
      "Brewer: 12\n",
      "mean: 14.57345971563981 median: 15.0 sd: 2.7332237455074773\n",
      "Brewer: 13\n",
      "mean: 11.0 median: 11.0 sd: 2.0\n",
      "Brewer: 14\n",
      "mean: 13.333333333333334 median: 13.0 sd: 0.4714045207910317\n",
      "Brewer: 15\n",
      "mean: 6.123473282442748 median: 5.0 sd: 4.4324147087168555\n",
      "Brewer: 16\n",
      "mean: 11.9 median: 13.0 sd: 3.3301651610693423\n",
      "Brewer: 17\n",
      "mean: 12.831683168316832 median: 13.0 sd: 3.0222583744272926\n",
      "Brewer: 18\n",
      "mean: 14.2109337860781 median: 14.0 sd: 2.455233690037572\n",
      "Brewer: 19\n",
      "mean: 13.358490566037736 median: 13.0 sd: 1.7385131320436895\n",
      "Brewer: 20\n",
      "mean: 13.95 median: 14.0 sd: 2.423324163210527\n",
      "Brewer: 21\n",
      "mean: 12.414429278536073 median: 13.0 sd: 2.57923577104781\n",
      "Brewer: 22\n",
      "mean: 14.584699453551913 median: 15.0 sd: 2.2917097265342896\n",
      "Brewer: 23\n",
      "mean: 5.0 median: 5.0 sd: 0.0\n",
      "Brewer: 24\n",
      "mean: 12.75 median: 13.0 sd: 2.165063509461097\n",
      "Brewer: 25\n",
      "mean: 9.135135135135135 median: 9.0 sd: 4.094572295006621\n",
      "Brewer: 26\n",
      "mean: 12.615384615384615 median: 13.0 sd: 1.4163040491939975\n",
      "Brewer: 27\n",
      "mean: 11.550617283950617 median: 12.0 sd: 2.1649351175970537\n",
      "Brewer: 28\n",
      "mean: 13.2 median: 13.0 sd: 0.7483314773547882\n",
      "Brewer: 29\n",
      "mean: 11.0 median: 11.0 sd: 0.0\n",
      "Brewer: 30\n",
      "mean: 9.333333333333334 median: 9.0 sd: 3.822875761121112\n",
      "Brewer: 31\n",
      "mean: 11.4 median: 12.0 sd: 2.5508168626278653\n",
      "Brewer: 32\n",
      "mean: 11.958041958041958 median: 12.0 sd: 2.31103804931299\n",
      "Brewer: 33\n",
      "mean: 14.018181818181818 median: 14.0 sd: 2.3470748455425348\n",
      "Brewer: 34\n",
      "mean: 11.666666666666666 median: 12.0 sd: 1.6996731711975948\n",
      "Brewer: 35\n",
      "mean: 12.909090909090908 median: 14.0 sd: 1.928473039599675\n",
      "Brewer: 36\n",
      "mean: 12.565014031805426 median: 13.0 sd: 2.5881523842441694\n",
      "Brewer: 37\n",
      "mean: 14.78 median: 15.0 sd: 1.446236495183274\n",
      "Brewer: 38\n",
      "mean: 12.901639344262295 median: 13.0 sd: 2.0098521112936893\n",
      "Brewer: 39\n",
      "mean: 14.913769123783032 median: 15.0 sd: 2.2997410768192283\n",
      "Brewer: 40\n",
      "mean: 14.853696456334102 median: 15.0 sd: 2.4378154506466116\n",
      "Brewer: 41\n",
      "mean: 12.166666666666666 median: 13.0 sd: 2.3746344747958346\n",
      "Brewer: 42\n",
      "mean: 13.529411764705882 median: 14.0 sd: 2.0802803466470343\n",
      "Brewer: 43\n",
      "mean: 14.0 median: 14.0 sd: 0.816496580927726\n",
      "Brewer: 44\n",
      "mean: 12.371308016877638 median: 13.0 sd: 2.6268051012868656\n",
      "Brewer: 45\n",
      "mean: 12.04109589041096 median: 13.0 sd: 2.951379320743882\n",
      "Brewer: 46\n",
      "mean: 11.9 median: 12.5 sd: 1.8411952639521967\n",
      "Brewer: 47\n",
      "mean: 11.1875 median: 12.0 sd: 2.9201615965559165\n",
      "Brewer: 48\n",
      "mean: 12.707207207207206 median: 13.0 sd: 2.268039265581248\n",
      "Brewer: 49\n",
      "mean: 13.459694989106755 median: 13.0 sd: 2.34032768560976\n",
      "Brewer: 50\n",
      "mean: 17.333333333333332 median: 17.0 sd: 1.247219128924647\n",
      "Brewer: 51\n",
      "mean: 11.5 median: 11.5 sd: 3.5\n",
      "Brewer: 52\n",
      "mean: 14.294621026894866 median: 15.0 sd: 2.2118806600771648\n",
      "Brewer: 53\n",
      "mean: 12.545454545454545 median: 13.0 sd: 1.6713433009863852\n",
      "Brewer: 54\n",
      "mean: 12.5625 median: 13.0 sd: 0.7043392293490403\n",
      "Brewer: 55\n",
      "mean: 12.952380952380953 median: 13.0 sd: 1.8381199110113127\n",
      "Brewer: 56\n",
      "mean: 12.976027397260275 median: 13.0 sd: 2.562126813307368\n",
      "Brewer: 57\n",
      "mean: 13.0 median: 13.0 sd: 1.632993161855452\n",
      "Brewer: 58\n",
      "mean: 12.76923076923077 median: 14.0 sd: 2.832608098387995\n",
      "Brewer: 59\n",
      "mean: 12.211678832116789 median: 12.0 sd: 2.27146904757196\n",
      "Brewer: 60\n",
      "mean: 11.88888888888889 median: 12.0 sd: 2.469567863432541\n",
      "Brewer: 61\n",
      "mean: 11.112903225806452 median: 11.5 sd: 2.103030368912974\n",
      "Brewer: 62\n",
      "mean: 11.76923076923077 median: 11.0 sd: 1.7166087388016462\n",
      "Brewer: 63\n",
      "mean: 13.256410256410257 median: 13.0 sd: 1.3722141702830413\n",
      "Brewer: 64\n",
      "mean: 11.325892857142858 median: 12.0 sd: 3.4841540666206163\n",
      "Brewer: 65\n",
      "mean: 20.0 median: 20.0 sd: 0.0\n",
      "Brewer: 66\n",
      "mean: 13.666666666666666 median: 14.0 sd: 1.247219128924647\n",
      "Brewer: 67\n",
      "mean: 13.024896265560166 median: 14.0 sd: 3.2907834469368167\n",
      "Brewer: 68\n",
      "mean: 13.5 median: 13.5 sd: 0.5\n",
      "Brewer: 69\n",
      "mean: 12.56 median: 13.0 sd: 2.786826151736057\n",
      "Brewer: 70\n",
      "mean: 15.386691484411354 median: 16.0 sd: 1.9307050162261605\n",
      "Brewer: 71\n",
      "mean: 11.0 median: 11.0 sd: 0.0\n",
      "Brewer: 72\n",
      "mean: 13.015094339622642 median: 13.0 sd: 2.293501584782954\n",
      "Brewer: 73\n",
      "mean: 12.6 median: 11.0 sd: 2.4166091947189146\n",
      "Brewer: 74\n",
      "mean: 11.10344827586207 median: 12.0 sd: 2.3758095184619217\n",
      "Brewer: 75\n",
      "mean: 12.924679487179487 median: 13.0 sd: 2.3789474401324124\n",
      "Brewer: 76\n",
      "mean: 12.5 median: 13.0 sd: 2.909676307807488\n",
      "Brewer: 77\n",
      "mean: 6.3253588516746415 median: 6.0 sd: 3.341686533827527\n",
      "Brewer: 78\n",
      "mean: 15.529032258064516 median: 16.0 sd: 2.147195252084058\n",
      "Brewer: 79\n",
      "mean: 10.0 median: 10.0 sd: 0.0\n",
      "Brewer: 80\n",
      "mean: 13.698863636363637 median: 14.0 sd: 2.341619210473706\n",
      "Brewer: 81\n",
      "mean: 13.875 median: 13.0 sd: 2.1469455046647083\n",
      "Brewer: 82\n",
      "mean: 12.8 median: 12.5 sd: 0.9797958971132712\n",
      "Brewer: 83\n",
      "mean: 14.114543114543114 median: 14.0 sd: 2.180056338876711\n",
      "Brewer: 84\n",
      "mean: 12.19047619047619 median: 14.0 sd: 3.7999880653828573\n",
      "Brewer: 85\n",
      "mean: 10.901960784313726 median: 11.0 sd: 1.6716189400742834\n",
      "Brewer: 86\n",
      "mean: 11.333333333333334 median: 12.0 sd: 3.2180049029725786\n",
      "Brewer: 87\n",
      "mean: 8.431034482758621 median: 9.0 sd: 2.7044794831303505\n",
      "Brewer: 88\n",
      "mean: 13.872865275142315 median: 14.0 sd: 2.3093251983625622\n",
      "Brewer: 89\n",
      "mean: 14.966666666666667 median: 15.0 sd: 1.32874209519965\n",
      "Brewer: 90\n",
      "mean: 10.75 median: 11.5 sd: 1.6393596310755\n",
      "Brewer: 91\n",
      "mean: 13.008849557522124 median: 13.0 sd: 2.462086226757002\n",
      "Brewer: 92\n",
      "mean: 12.485714285714286 median: 13.0 sd: 1.8878775470493474\n",
      "Brewer: 93\n",
      "mean: 14.0 median: 14.5 sd: 1.5491933384829668\n",
      "Brewer: 94\n",
      "mean: 10.966666666666667 median: 11.0 sd: 2.726210230745645\n",
      "Brewer: 95\n",
      "mean: 13.466908861159375 median: 14.0 sd: 2.4414100283035616\n",
      "Brewer: 96\n",
      "mean: 15.0 median: 15.0 sd: 2.0\n",
      "Brewer: 97\n",
      "mean: 11.571428571428571 median: 13.0 sd: 4.135461378894322\n",
      "Brewer: 98\n",
      "mean: 13.041666666666666 median: 13.0 sd: 1.135751097536584\n",
      "Brewer: 99\n",
      "mean: 7.5 median: 7.0 sd: 1.5\n"
     ]
    }
   ],
   "source": [
    "#For the sake of not printing too much stuff, I only print the first 100 items.\n",
    "for k,v in list(beer_statistics.items())[:100]:\n",
    "    print(\"Beer: \" + str(k) +\"\\n\" \n",
    "          + \"mean: \" + str(v['mean']) \n",
    "          + \" median: \" + str(v['median']) \n",
    "          + \" sd: \" + str(v['sd']))\n",
    "print(\"\\n\")\n",
    "for k,v in list(brewer_statistics.items())[:100]:\n",
    "    print(\"Brewer: \" + str(k) +\"\\n\" \n",
    "          + \"mean: \" + str(v['mean']) \n",
    "          + \" median: \" + str(v['median']) \n",
    "          + \" sd: \" + str(v['sd']))"
   ]
  },
  {
   "cell_type": "markdown",
   "metadata": {},
   "source": [
    "It seems like people have different tastes, but there are definitely beers and brewer that are generally more liked. This is apparrent because the standard deviations are not too high, but the beers and brewers with a significant amount of reviews do have a decent standard deviation. which shows that there is definitely some differentiation in taste. There is also an extreme range of means, which shows that there is some form of objective ranking."
   ]
  },
  {
   "cell_type": "markdown",
   "metadata": {},
   "source": [
    "## Part 2: Sentiment analysis."
   ]
  },
  {
   "cell_type": "code",
   "execution_count": 79,
   "metadata": {},
   "outputs": [],
   "source": [
    "with open('/project/cmsc25025/beer_review/vocab_30.json', 'r') as f:\n",
    "         vocab = json.load(f)\n",
    "vocab_set = set(vocab)"
   ]
  },
  {
   "cell_type": "code",
   "execution_count": 80,
   "metadata": {},
   "outputs": [],
   "source": [
    "ratings = [1 if b['overall'] >=14 else 0 for b in brv]\n",
    "\n",
    "demo_brv = brv[:10000]\n",
    "demo_ratings = ratings[:10000]\n"
   ]
  },
  {
   "cell_type": "markdown",
   "metadata": {},
   "source": [
    "### (a) Generating features.\n",
    "You need to represent text reviews in terms of a vector of features (covariates). One simple but effective representation is to use membership in a fixed vocab- ulary. Suppose the vocabulary contains p words. For a given review, you normalize the text, and separate it into space-delimited tokens. For each of the tokens, if it is in the dictionary you have a one for the corresponding word in the feature vector, and you ignore it otherwise."
   ]
  },
  {
   "cell_type": "code",
   "execution_count": 110,
   "metadata": {},
   "outputs": [],
   "source": [
    "def makeCSRandLabels(words, ratings):\n",
    "    vocab_words = [list(vocab_set & set(re.sub(\"[^\\w]\", \" \",  br['review'].lower()).split())) for br in words]\n",
    "    vocab_words_ratings = [(x, ratings[i]) for i,x in enumerate(vocab_words) if x != []]\n",
    "    vocab_words = [x for x,i in vocab_words_ratings]\n",
    "    csr_ratings = [i for x,i in vocab_words_ratings]\n",
    "    indptr = [0]\n",
    "    indices = []\n",
    "    data = []\n",
    "    vocabulary = {}\n",
    "    for v in vocab:\n",
    "        index = vocabulary.setdefault(v, len(vocabulary))\n",
    "    for d in vocab_words:\n",
    "        for term in d:\n",
    "            index = vocabulary.setdefault(term, len(vocabulary))\n",
    "            indices.append(index)\n",
    "            data.append(1)\n",
    "        indptr.append(len(indices))\n",
    "    return csr_matrix((data, indices, indptr)), csr_ratings"
   ]
  },
  {
   "cell_type": "code",
   "execution_count": 111,
   "metadata": {},
   "outputs": [],
   "source": [
    "csr_vocab, csr_labels = makeCSRandLabels(demo_brv, demo_ratings)"
   ]
  },
  {
   "cell_type": "markdown",
   "metadata": {},
   "source": [
    "### (b) Logistic regression using Newton’s method\n",
    "Logistic regression using Newton’s method. Train an l2-regularized logistic regression\n",
    "classifier using the sklearn.linear model.LogisticRegression class. To select the regularization parameter C = 1/λ, you should try different values on the validation\n",
    "set. Pick the best. How long does it take to train?"
   ]
  },
  {
   "cell_type": "code",
   "execution_count": 112,
   "metadata": {},
   "outputs": [],
   "source": [
    "def getDualDataRange(data, ratings,l,r):\n",
    "    return csr_matrix(data[int(l*len(data)):int(r*len(data))]), ratings[int(l*len(ratings)):int(r*len(ratings))]\n",
    "\n",
    "train_csr_words, train_ratings = getDualDataRange(csr_vocab.toarray(), csr_labels, 0, 0.7)\n",
    "valid_csr_words, valid_ratings = getDualDataRange(csr_vocab.toarray(), csr_labels, 0.7, 0.85)\n",
    "test_csr_words, test_ratings = getDualDataRange(csr_vocab.toarray(), csr_labels, 0.85, 1)\n"
   ]
  },
  {
   "cell_type": "code",
   "execution_count": 109,
   "metadata": {},
   "outputs": [],
   "source": [
    "# Testing for best lambda\n",
    "\n",
    "ltrain_csr_words, ltrain_ratings = getDualDataRange(csr_vocab.toarray(), csr_labels, 0, 0.07)\n",
    "lvalid_csr_words, lvalid_ratings = getDualDataRange(csr_vocab.toarray(), csr_labels, 0.07, 0.085)\n",
    "\n",
    "ls = [5,10,20,30,40,50,75,100,200,300,400,500]\n",
    "errors = []\n",
    "for l in ls:\n",
    "    lg=LogisticRegression(fit_intercept=True, C=l, penalty='l2',\n",
    "                multi_class='multinomial',solver='newton-cg')\n",
    "    model = lg.fit(ltrain_csr_words, ltrain_ratings)\n",
    "    predicted_valid_ratings = lg.predict(lvalid_csr_words)\n",
    "    error = np.mean(lvalid_ratings != predicted_valid_ratings)\n",
    "    errors.append(error)"
   ]
  },
  {
   "cell_type": "code",
   "execution_count": 85,
   "metadata": {},
   "outputs": [
    {
     "name": "stdout",
     "output_type": "stream",
     "text": [
      "The error rate for 1/lambda = 5 is 0.36\n",
      "The error rate for 1/lambda = 10 is 0.36\n",
      "The error rate for 1/lambda = 20 is 0.35333333333333333\n",
      "The error rate for 1/lambda = 30 is 0.36\n",
      "The error rate for 1/lambda = 40 is 0.36\n",
      "The error rate for 1/lambda = 50 is 0.36\n",
      "The error rate for 1/lambda = 75 is 0.36666666666666664\n",
      "The error rate for 1/lambda = 100 is 0.36666666666666664\n",
      "The error rate for 1/lambda = 200 is 0.36\n",
      "The error rate for 1/lambda = 300 is 0.36666666666666664\n",
      "The error rate for 1/lambda = 400 is 0.36666666666666664\n",
      "The error rate for 1/lambda = 500 is 0.36666666666666664\n",
      "The minimum 1/lambda value is: 20\n"
     ]
    }
   ],
   "source": [
    "for i in range(len(ls)):\n",
    "    print(\"The error rate for 1/lambda = \" + str(ls[i]) + \" is \" + str(errors[i]))\n",
    "error_pairs = [(ls[i], errors[i]) for i in range(len(ls))]\n",
    "min_pair = min(error_pairs, key = lambda x: x[1])\n",
    "print(\"The minimum 1/lambda value is: \" + str(min_pair[0]))\n",
    "l = min_pair[0]"
   ]
  },
  {
   "cell_type": "code",
   "execution_count": 86,
   "metadata": {},
   "outputs": [
    {
     "name": "stdout",
     "output_type": "stream",
     "text": [
      "Traning the model took 11.313294887542725 seconds.\n"
     ]
    }
   ],
   "source": [
    "#Fitting the Regression\n",
    "start_time = time.time()\n",
    "lg=LogisticRegression(fit_intercept=True, C=l, penalty='l2',\n",
    "                multi_class='multinomial',solver='newton-cg')\n",
    "model = lg.fit(train_csr_words, train_ratings)\n",
    "end_time = time.time()\n",
    "print(\"Traning the model took %s seconds.\" % (end_time - start_time))"
   ]
  },
  {
   "cell_type": "code",
   "execution_count": 87,
   "metadata": {},
   "outputs": [
    {
     "name": "stdout",
     "output_type": "stream",
     "text": [
      "The error rate is: 0.19786096256684493\n"
     ]
    }
   ],
   "source": [
    "# Testing the Training\n",
    "predicted_test_ratings = lg.predict(test_csr_words)\n",
    "error = np.mean(test_ratings != predicted_test_ratings)\n",
    "print(\"The error rate is:\", error)"
   ]
  },
  {
   "cell_type": "markdown",
   "metadata": {},
   "source": [
    "Do the same thing using the LinearSVC class in sklearn.svm. Use loss=’hinge’. Compare the results of the logistic loss to the hinge loss. Is there a difference?"
   ]
  },
  {
   "cell_type": "code",
   "execution_count": 88,
   "metadata": {},
   "outputs": [],
   "source": [
    "ltrain_csr_words, ltrain_ratings = getDualDataRange(csr_vocab.toarray(), csr_labels, 0, 0.07)\n",
    "lvalid_csr_words, lvalid_ratings = getDualDataRange(csr_vocab.toarray(), csr_labels, 0.07, 0.085)\n",
    "\n",
    "ls = [5,10,20,30,40,50,75,100,200,300,400,500]\n",
    "errors = []\n",
    "for l in ls:\n",
    "    hinge=LinearSVC(loss='hinge', penalty='l2',dual=True, tol=.001, C = l, max_iter = 100000)\n",
    "    model = hinge.fit(ltrain_csr_words, ltrain_ratings)\n",
    "    predicted_valid_ratings = hinge.predict(lvalid_csr_words)\n",
    "    error = np.mean(lvalid_ratings != predicted_valid_ratings)\n",
    "    errors.append(error)"
   ]
  },
  {
   "cell_type": "code",
   "execution_count": 89,
   "metadata": {},
   "outputs": [],
   "source": [
    "error_pairs = [(ls[i], errors[i]) for i in range(len(ls))]\n",
    "min_pair = min(error_pairs, key = lambda x: x[1])\n",
    "lhinge = min_pair[0]"
   ]
  },
  {
   "cell_type": "code",
   "execution_count": 113,
   "metadata": {},
   "outputs": [
    {
     "name": "stdout",
     "output_type": "stream",
     "text": [
      "Traning the model took 8.50538682937622 seconds.\n"
     ]
    }
   ],
   "source": [
    "#Fitting the Regression\n",
    "\n",
    "start_time = time.time()\n",
    "hinge=LinearSVC(loss='hinge', penalty='l2',dual=True, tol=.001, C = l, max_iter = 100000)\n",
    "model = hinge.fit(train_csr_words, train_ratings)\n",
    "end_time = time.time()\n",
    "print(\"Traning the model took %s seconds.\" % (end_time - start_time))"
   ]
  },
  {
   "cell_type": "code",
   "execution_count": 91,
   "metadata": {},
   "outputs": [
    {
     "name": "stdout",
     "output_type": "stream",
     "text": [
      "The error rate is: 0.2520053475935829\n"
     ]
    }
   ],
   "source": [
    "# Testing the Training\n",
    "predicted_test_ratings = hinge.predict(test_csr_words)\n",
    "error = np.mean(test_ratings != predicted_test_ratings)\n",
    "print(\"The error rate is:\", error)"
   ]
  },
  {
   "cell_type": "markdown",
   "metadata": {},
   "source": [
    "The hinge model was extremely faster, but does get a slightly higher error rate. This is important to realize as using hinge is probably better when in an instance where you are willing to sacrifice accuracy for a faster runtime. For instance, if your dataset is extremely large and you are only testing whether the model is good and thus can sacrifice some accuracay."
   ]
  },
  {
   "cell_type": "markdown",
   "metadata": {},
   "source": [
    "### (c) Stochastic gradient descent\n",
    " Your next job is to train an l2-regularized logistic regression\n",
    "classifier using stochastic gradient descent. Recall the SGD framework that was covered in\n",
    "class using minibatches."
   ]
  },
  {
   "cell_type": "markdown",
   "metadata": {},
   "source": [
    "#### i. Initialize the model with θ = 0 (uniform)."
   ]
  },
  {
   "cell_type": "markdown",
   "metadata": {},
   "source": [
    "#### ii. Randomly split the training data into mini-batches. Make one pass of the data, processing one mini-batch in every iteration. This is called one training epoch."
   ]
  },
  {
   "cell_type": "code",
   "execution_count": 92,
   "metadata": {},
   "outputs": [],
   "source": [
    "def getYhat(x, theta):\n",
    "    return 1/(1+exp(-theta.dot(x)))\n",
    "\n",
    "def getNewThetas(x, y, yhat, thetas, alpha, lamb):\n",
    "    return thetas + alpha*((y - yhat) * yhat *(1 - yhat) * x - 2*lamb*thetas)\n",
    "\n",
    "def getBatch(b, x, y):\n",
    "    indices = random.sample(range(len(y)), b)\n",
    "    xb = [x.getrow(i).toarray()[0] for i in indices]\n",
    "    yb = [y[i] for i in indices]\n",
    "    return xb,yb\n",
    "\n",
    "def SGDstep(x,y, theta, alpha, lamb, b):\n",
    "    xb, yb = getBatch(b, x, y)\n",
    "    for i in range(b):\n",
    "        yhat = getYhat(xb[i],theta)\n",
    "        theta = getNewThetas(xb[i], yb[i], yhat, theta, alpha, lamb)\n",
    "    return theta\n",
    "\n",
    "def predictSGD(X,theta):\n",
    "    yhats = []\n",
    "    for i in range(X.shape[0]):\n",
    "        x = X.getrow(i).toarray()[0]\n",
    "        yhats.append(getYhat(x, theta))\n",
    "    return yhats  \n",
    "    \n",
    "\n",
    "def runSGDsteps(x, y, theta, alpha, lamb, b, n):\n",
    "    thetas = []\n",
    "    for i in range(n):\n",
    "        theta = SGDstep(x, y, theta, alpha, lamb, b)\n",
    "        thetas.append(theta)\n",
    "    \n",
    "    return theta, thetas"
   ]
  },
  {
   "cell_type": "code",
   "execution_count": 93,
   "metadata": {},
   "outputs": [
    {
     "name": "stdout",
     "output_type": "stream",
     "text": [
      "The error rate is: 0.15641711229946523\n"
     ]
    }
   ],
   "source": [
    "theta = SGDstep(train_csr_words, train_ratings, np.zeros(len(vocab)), 0.001, 1/l, 10)\n",
    "yhats = predictSGD(test_csr_words, theta)\n",
    "predicted_test_ratings = [1 if yhat >= 0.5 else 0 for yhat in yhats]\n",
    "wrong = 0\n",
    "for i in range(len(test_ratings)):\n",
    "    if test_ratings[i] != predicted_test_ratings[i]:\n",
    "        wrong += 1\n",
    "error = wrong/len(test_ratings)\n",
    "print(\"The error rate is:\", error)"
   ]
  },
  {
   "cell_type": "markdown",
   "metadata": {},
   "source": [
    "#### iii. Repeat the last step a few times."
   ]
  },
  {
   "cell_type": "code",
   "execution_count": 94,
   "metadata": {},
   "outputs": [
    {
     "name": "stdout",
     "output_type": "stream",
     "text": [
      "Traning the model took 2.682340621948242 seconds.\n"
     ]
    }
   ],
   "source": [
    "start_time = time.time()\n",
    "theta, thetas = runSGDsteps(train_csr_words, train_ratings, np.zeros(len(vocab)), 0.001, 1/l, 100, 10)\n",
    "end_time = time.time()\n",
    "print(\"Traning the model took %s seconds.\" % (end_time - start_time))"
   ]
  },
  {
   "cell_type": "code",
   "execution_count": 95,
   "metadata": {},
   "outputs": [],
   "source": [
    "def log_likelihood(x, y, theta):\n",
    "    scores = np.dot(x, theta)\n",
    "    ll = np.sum( y*scores - np.log(1 + np.exp(y)) )\n",
    "    return ll\n",
    "\n",
    "errors = []\n",
    "ll = []\n",
    "for theta in thetas:\n",
    "    yhats = predictSGD(test_csr_words, theta)\n",
    "    predicted_test_ratings = [1 if yhat >= 0.5 else 0 for yhat in yhats]\n",
    "    wrong = 0\n",
    "    for i in range(len(test_ratings)):\n",
    "        if test_ratings[i] != predicted_test_ratings[i]:\n",
    "            wrong += 1\n",
    "    errors.append(wrong/len(test_ratings))\n",
    "    #Note that computing the log likelihood kills the kernal and uses a lot of memory, so I commented it out. If you want to try to compute it, uncomment this.\n",
    "    # ll.append(log_likelihood(test_csr_words,test_ratings,theta))\n"
   ]
  },
  {
   "cell_type": "code",
   "execution_count": 96,
   "metadata": {},
   "outputs": [
    {
     "data": {
      "image/png": "[encoded data removed]",
      "text/plain": [
       "<Figure size 432x288 with 1 Axes>"
      ]
     },
     "metadata": {
      "needs_background": "light"
     },
     "output_type": "display_data"
    }
   ],
   "source": [
    "plt.plot(errors)\n",
    "plt.ylabel('errors')\n",
    "plt.xlabel('iterations')\n",
    "plt.show()\n",
    "if (len(ll)>0):\n",
    "    plt.plot(ll)\n",
    "    plt.ylabel('log-likelihood')\n",
    "    plt.xlabel('iterations')\n",
    "    plt.show()"
   ]
  },
  {
   "cell_type": "code",
   "execution_count": 97,
   "metadata": {
    "scrolled": true
   },
   "outputs": [
    {
     "name": "stdout",
     "output_type": "stream",
     "text": [
      "The best error rate is: 0.11229946524064172\n"
     ]
    }
   ],
   "source": [
    "error = min(errors)\n",
    "print(\"The best error rate is:\", error)"
   ]
  },
  {
   "cell_type": "markdown",
   "metadata": {},
   "source": [
    "As you can see, the error rate generally shrinks at first, but once it reaches a minimum, it begins to increase. This the behavior that we expect with SGD. As it is stochastic, we cannot expect the same behavior for every run and in some cases, the error rate may even increase.It appears that the best results happen around 3-5 iteraitons. Overall, the change in error rate is extremely small after the first iteration and thus if we run too many or too little iterations, it is not too big of a deal."
   ]
  },
  {
   "cell_type": "markdown",
   "metadata": {},
   "source": [
    "The error rate for SGD was significantly better than the error rate for the logistic and hinge regression. It runs slower than the hinge regression, but still runs fairly fast. This is definitely the best prediction function as it runs fast enough and has the best error rate."
   ]
  },
  {
   "cell_type": "markdown",
   "metadata": {},
   "source": [
    "## Part 3: Scores versus text."
   ]
  },
  {
   "cell_type": "markdown",
   "metadata": {},
   "source": [
    "In addition to text reviews, the users also scored appearance, aroma, palate, style, taste of\n",
    "a beer. In this problem, you will check whether those scores could reflect people’s opinion\n",
    "better than text.\n",
    "Train another logistic regression model using those features. You should use the same SGD\n",
    "algorithm as before. Compare the model using score features with that using review text.\n",
    "Again, use the validation set to tune the regularization parameters, and retrain the model on\n",
    "the union of training and validation set. Finally, compute the prediction error on the testing\n",
    "set"
   ]
  },
  {
   "cell_type": "code",
   "execution_count": 98,
   "metadata": {},
   "outputs": [],
   "source": [
    "scores = [[b[\"appearance\"], b[\"aroma\"], b[\"palate\"], b[\"style\"], b[\"taste\"]] for b in brv]"
   ]
  },
  {
   "cell_type": "code",
   "execution_count": 99,
   "metadata": {},
   "outputs": [],
   "source": [
    "demo_scores = scores[:10000]\n",
    "demo_ratings = ratings[:10000]\n",
    "\n",
    "def getDataRange(data, l, r):\n",
    "    return data[int(l*len(data)):int(r*len(data))]\n",
    "    \n",
    "\n",
    "train_scores = getDataRange(demo_scores, 0, 0.7)\n",
    "valid_scores = getDataRange(demo_scores, 0.7, 0.85)\n",
    "test_scores = getDataRange(demo_scores, 0.85, 1)\n",
    "\n",
    "train_ratings = getDataRange(demo_ratings, 0, 0.7)\n",
    "valid_ratings = getDataRange(demo_ratings, 0.7, 0.85)\n",
    "test_ratings = getDataRange(demo_ratings, 0.85, 1)"
   ]
  },
  {
   "cell_type": "code",
   "execution_count": 100,
   "metadata": {},
   "outputs": [],
   "source": [
    "# Testing for best lambda\n",
    "\n",
    "ltrain_scores = getDataRange(demo_scores, 0, 0.7)\n",
    "lvalid_scores = getDataRange(demo_scores, 0.7, 0.85)\n",
    "ltrain_ratings = getDataRange(demo_ratings, 0, 0.7)\n",
    "lvalid_ratings = getDataRange(demo_ratings, 0.7, 0.85)\n",
    "\n",
    "ls = [5, 10, 20, 30, 40, 50, 75, 100, 200, 300, 400,500, 1000, 2000, 5000, 10000]\n",
    "errors = []\n",
    "for l in ls:\n",
    "    lg=LogisticRegression(fit_intercept=True, C=l, penalty='l2',\n",
    "                multi_class='multinomial',solver='newton-cg')\n",
    "    model = lg.fit(ltrain_scores, ltrain_ratings)\n",
    "    predicted_valid_ratings = lg.predict(lvalid_scores)\n",
    "    error = np.mean(lvalid_ratings != predicted_valid_ratings)\n",
    "    errors.append(error)"
   ]
  },
  {
   "cell_type": "code",
   "execution_count": 101,
   "metadata": {},
   "outputs": [],
   "source": [
    "error_pairs = [(ls[i], errors[i]) for i in range(len(ls))]\n",
    "min_pair = min(error_pairs, key = lambda x: x[1])\n",
    "l = min_pair[0]"
   ]
  },
  {
   "cell_type": "code",
   "execution_count": 102,
   "metadata": {},
   "outputs": [
    {
     "name": "stdout",
     "output_type": "stream",
     "text": [
      "Traning the model took 0.2636234760284424 seconds.\n"
     ]
    }
   ],
   "source": [
    "#Fitting the Regression\n",
    "start_time = time.time()\n",
    "lg=LogisticRegression(fit_intercept=True, C=l, penalty='l2',\n",
    "                multi_class='multinomial',solver='newton-cg')\n",
    "model = lg.fit(train_scores, train_ratings)\n",
    "end_time = time.time()\n",
    "print(\"Traning the model took %s seconds.\" % (end_time - start_time))"
   ]
  },
  {
   "cell_type": "code",
   "execution_count": 103,
   "metadata": {},
   "outputs": [
    {
     "name": "stdout",
     "output_type": "stream",
     "text": [
      "The error rate is: 0.09\n"
     ]
    }
   ],
   "source": [
    "# Testing the Training\n",
    "predicted_test_ratings = lg.predict(test_scores)\n",
    "error = np.mean(test_ratings != predicted_test_ratings)\n",
    "print(\"The error rate is:\", error)"
   ]
  },
  {
   "cell_type": "code",
   "execution_count": 104,
   "metadata": {},
   "outputs": [
    {
     "name": "stdout",
     "output_type": "stream",
     "text": [
      "Traning the model took 0.008984565734863281 seconds.\n"
     ]
    }
   ],
   "source": [
    "#Running the SGD\n",
    "def getScoreBatch(b, x, y):\n",
    "    indices = random.sample(range(len(y)), b)\n",
    "    xb = [x[i] for i in indices]\n",
    "    yb = [y[i] for i in indices]\n",
    "    return np.array(xb),np.array(yb)\n",
    "\n",
    "def SGDScoreStep(x,y, theta, alpha, lamb, b):\n",
    "    xb, yb = getScoreBatch(b, x, y)\n",
    "    for i in range(b):\n",
    "        yhat = getYhat(xb[i],theta)\n",
    "        theta = getNewThetas(xb[i], yb[i], yhat, theta, alpha, lamb)\n",
    "    return theta\n",
    "\n",
    "def runSGDScoreSteps(x, y, theta, alpha, lamb, b, n):\n",
    "    for i in range(n):\n",
    "        theta = SGDScoreStep(x, y, theta, alpha, lamb, b)\n",
    "    return theta\n",
    "\n",
    "start_time = time.time()\n",
    "theta = runSGDScoreSteps(train_scores, train_ratings, np.zeros(len(test_scores[0])), 0.001, 1/l, 100, 5)\n",
    "end_time = time.time()\n",
    "print(\"Traning the model took %s seconds.\" % (end_time - start_time))"
   ]
  },
  {
   "cell_type": "code",
   "execution_count": 105,
   "metadata": {},
   "outputs": [],
   "source": [
    "def predictScoresSGD(X,theta):\n",
    "    yhats = []\n",
    "    for i in range(len(X)):\n",
    "        x = X[i]\n",
    "        yhats.append(getYhat(x, theta))\n",
    "    return yhats\n",
    "\n",
    "yhats = predictScoresSGD(test_scores, theta)\n",
    "\n",
    "predicted_test_ratings = [1 if yhat >= 0.5 else 0 for yhat in yhats]"
   ]
  },
  {
   "cell_type": "code",
   "execution_count": 106,
   "metadata": {},
   "outputs": [
    {
     "name": "stdout",
     "output_type": "stream",
     "text": [
      "The error rate is: 0.11133333333333334\n"
     ]
    }
   ],
   "source": [
    "wrong = 0\n",
    "for i in range(len(test_ratings)):\n",
    "    if test_ratings[i] != predicted_test_ratings[i]:\n",
    "        wrong += 1\n",
    "error = wrong/len(test_ratings)\n",
    "print(\"The error rate is:\", error)"
   ]
  },
  {
   "cell_type": "markdown",
   "metadata": {},
   "source": [
    "Which model predicts better? Is the representation you constructed for text more powerful,\n",
    "or are the scores? Why? Comment on your findings and discuss your thinking."
   ]
  },
  {
   "cell_type": "markdown",
   "metadata": {},
   "source": [
    "The scores model predicts way better than the test model in every case, but SGD. This makes sense as sentiment analysis is an extremely conplex field and thus our model does not do a fantastic job of performing it. In addition, there is a much more objective relationship between the scores and the ratings. The text in the review is informative, but it is far less deterministic of the actual rating. \n",
    "\n",
    "In the case of SGD, they interestingly get about the same error rate. This is a significant note as it shows that the power of the scores and text are about the same in determining the actual rating. I was really suprised to see this as I imagined that it would be better for the scores. However, with the scores, there are far more dimensions and thus it makes sense that SGD would perform well on the text."
   ]
  }
 ],
 "metadata": {
  "kernelspec": {
   "display_name": "Python 3",
   "language": "python",
   "name": "python3"
  },
  "language_info": {
   "codemirror_mode": {
    "name": "ipython",
    "version": 3
   },
   "file_extension": ".py",
   "mimetype": "text/x-python",
   "name": "python",
   "nbconvert_exporter": "python",
   "pygments_lexer": "ipython3",
   "version": "3.7.1"
  }
 },
 "nbformat": 4,
 "nbformat_minor": 2
}
